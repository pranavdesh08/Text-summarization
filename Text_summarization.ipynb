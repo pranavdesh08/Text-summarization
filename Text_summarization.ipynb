{
 "cells": [
  {
   "cell_type": "markdown",
   "metadata": {
    "colab_type": "text",
    "id": "F5dSoP8lGMZi"
   },
   "source": [
    "### Problem Statement\n",
    "\n",
    "Customer reviews on Amazon fine food services were very long and boring. Analyzing these reviews manually is time consuming and tendious task. To save our time and efforts, we use the RNN model to summarize those reviews. \n",
    "\n",
    "We used the dataset from here(https://www.kaggle.com/snap/amazon-fine-food-reviews)"
   ]
  },
  {
   "cell_type": "markdown",
   "metadata": {
    "colab_type": "text",
    "id": "JUValOzcHtEK"
   },
   "source": [
    "#### Import the Libraries"
   ]
  },
  {
   "cell_type": "code",
   "execution_count": 2,
   "metadata": {
    "_cell_guid": "b1076dfc-b9ad-4769-8c92-a6c4dae69d19",
    "_uuid": "8f2839f25d086af736a60e9eeb907d3b93b6e0e5",
    "colab": {},
    "colab_type": "code",
    "id": "_Jpu8qLEFxcY",
    "outputId": "95968e01-faac-4911-c802-9c008a4e62cf"
   },
   "outputs": [
    {
     "name": "stderr",
     "output_type": "stream",
     "text": [
      "[nltk_data] Downloading package stopwords to\n",
      "[nltk_data]     C:\\Users\\12014\\AppData\\Roaming\\nltk_data...\n",
      "[nltk_data]   Package stopwords is already up-to-date!\n"
     ]
    },
    {
     "data": {
      "text/plain": [
       "True"
      ]
     },
     "execution_count": 2,
     "metadata": {},
     "output_type": "execute_result"
    }
   ],
   "source": [
    "from attention import AttentionLayer\n",
    "import numpy as np\n",
    "import pandas as pd \n",
    "import re\n",
    "from tensorflow.keras.preprocessing.text import Tokenizer \n",
    "from tensorflow.keras.preprocessing.sequence import pad_sequences\n",
    "from nltk.corpus import stopwords\n",
    "from tensorflow.keras.layers import Input, LSTM, Embedding, Dense, Concatenate, TimeDistributed\n",
    "from tensorflow.keras.models import Model\n",
    "from tensorflow.keras.callbacks import EarlyStopping\n",
    "import warnings\n",
    "pd.set_option(\"display.max_colwidth\", 200)\n",
    "warnings.filterwarnings(\"ignore\")\n",
    "from sklearn.model_selection import train_test_split\n",
    "import nltk\n",
    "nltk.download('stopwords')"
   ]
  },
  {
   "cell_type": "markdown",
   "metadata": {
    "colab_type": "text",
    "id": "UVakjZ3oICgx"
   },
   "source": [
    "### Read the dataset\n",
    "\n",
    "This dataset consists of reviews of fine foods from Amazon. The data spans a period of more than 10 years, including all ~500,000 reviews up to October 2012. These reviews include product and user information, ratings, plain text review, and summary.\n",
    "\n",
    "We’ll take a sample of 100,000 reviews to reduce the training time of our model. "
   ]
  },
  {
   "cell_type": "code",
   "execution_count": 3,
   "metadata": {
    "colab": {},
    "colab_type": "code",
    "id": "wnK5o4Z1Fxcj"
   },
   "outputs": [],
   "source": [
    "data=pd.read_csv(\"C:/Users/12014/Documents/Python Scripts/PYTHON/Neural Nets/project/amazon-fine-food-reviews/Reviews.csv\",nrows=100000)"
   ]
  },
  {
   "cell_type": "markdown",
   "metadata": {
    "colab_type": "text",
    "id": "kGNQKvCaISIn"
   },
   "source": [
    "#### Drop Duplicates and NA values"
   ]
  },
  {
   "cell_type": "code",
   "execution_count": 4,
   "metadata": {
    "colab": {},
    "colab_type": "code",
    "id": "Cjul88oOFxcr"
   },
   "outputs": [],
   "source": [
    "data.drop_duplicates(subset=['Text'],inplace=True)\n",
    "data.dropna(axis=0,inplace=True)"
   ]
  },
  {
   "cell_type": "markdown",
   "metadata": {
    "colab_type": "text",
    "id": "qi0xD6BkIWAm"
   },
   "source": [
    "#### Sample Data"
   ]
  },
  {
   "cell_type": "code",
   "execution_count": 5,
   "metadata": {
    "colab": {},
    "colab_type": "code",
    "id": "__fy-JxTFxc9",
    "outputId": "d42c6e36-bbc8-43c2-de0e-d3effe3e8c4c"
   },
   "outputs": [
    {
     "data": {
      "text/html": [
       "<div>\n",
       "<style scoped>\n",
       "    .dataframe tbody tr th:only-of-type {\n",
       "        vertical-align: middle;\n",
       "    }\n",
       "\n",
       "    .dataframe tbody tr th {\n",
       "        vertical-align: top;\n",
       "    }\n",
       "\n",
       "    .dataframe thead th {\n",
       "        text-align: right;\n",
       "    }\n",
       "</style>\n",
       "<table border=\"1\" class=\"dataframe\">\n",
       "  <thead>\n",
       "    <tr style=\"text-align: right;\">\n",
       "      <th></th>\n",
       "      <th>Id</th>\n",
       "      <th>ProductId</th>\n",
       "      <th>UserId</th>\n",
       "      <th>ProfileName</th>\n",
       "      <th>HelpfulnessNumerator</th>\n",
       "      <th>HelpfulnessDenominator</th>\n",
       "      <th>Score</th>\n",
       "      <th>Time</th>\n",
       "      <th>Summary</th>\n",
       "      <th>Text</th>\n",
       "    </tr>\n",
       "  </thead>\n",
       "  <tbody>\n",
       "    <tr>\n",
       "      <th>0</th>\n",
       "      <td>1</td>\n",
       "      <td>B001E4KFG0</td>\n",
       "      <td>A3SGXH7AUHU8GW</td>\n",
       "      <td>delmartian</td>\n",
       "      <td>1</td>\n",
       "      <td>1</td>\n",
       "      <td>5</td>\n",
       "      <td>1303862400</td>\n",
       "      <td>Good Quality Dog Food</td>\n",
       "      <td>I have bought several of the Vitality canned dog food products and have found them all to be of good quality. The product looks more like a stew than a processed meat and it smells better. My Labr...</td>\n",
       "    </tr>\n",
       "    <tr>\n",
       "      <th>1</th>\n",
       "      <td>2</td>\n",
       "      <td>B00813GRG4</td>\n",
       "      <td>A1D87F6ZCVE5NK</td>\n",
       "      <td>dll pa</td>\n",
       "      <td>0</td>\n",
       "      <td>0</td>\n",
       "      <td>1</td>\n",
       "      <td>1346976000</td>\n",
       "      <td>Not as Advertised</td>\n",
       "      <td>Product arrived labeled as Jumbo Salted Peanuts...the peanuts were actually small sized unsalted. Not sure if this was an error or if the vendor intended to represent the product as \"Jumbo\".</td>\n",
       "    </tr>\n",
       "    <tr>\n",
       "      <th>2</th>\n",
       "      <td>3</td>\n",
       "      <td>B000LQOCH0</td>\n",
       "      <td>ABXLMWJIXXAIN</td>\n",
       "      <td>Natalia Corres \"Natalia Corres\"</td>\n",
       "      <td>1</td>\n",
       "      <td>1</td>\n",
       "      <td>4</td>\n",
       "      <td>1219017600</td>\n",
       "      <td>\"Delight\" says it all</td>\n",
       "      <td>This is a confection that has been around a few centuries.  It is a light, pillowy citrus gelatin with nuts - in this case Filberts. And it is cut into tiny squares and then liberally coated with ...</td>\n",
       "    </tr>\n",
       "    <tr>\n",
       "      <th>3</th>\n",
       "      <td>4</td>\n",
       "      <td>B000UA0QIQ</td>\n",
       "      <td>A395BORC6FGVXV</td>\n",
       "      <td>Karl</td>\n",
       "      <td>3</td>\n",
       "      <td>3</td>\n",
       "      <td>2</td>\n",
       "      <td>1307923200</td>\n",
       "      <td>Cough Medicine</td>\n",
       "      <td>If you are looking for the secret ingredient in Robitussin I believe I have found it.  I got this in addition to the Root Beer Extract I ordered (which was good) and made some cherry soda.  The fl...</td>\n",
       "    </tr>\n",
       "    <tr>\n",
       "      <th>4</th>\n",
       "      <td>5</td>\n",
       "      <td>B006K2ZZ7K</td>\n",
       "      <td>A1UQRSCLF8GW1T</td>\n",
       "      <td>Michael D. Bigham \"M. Wassir\"</td>\n",
       "      <td>0</td>\n",
       "      <td>0</td>\n",
       "      <td>5</td>\n",
       "      <td>1350777600</td>\n",
       "      <td>Great taffy</td>\n",
       "      <td>Great taffy at a great price.  There was a wide assortment of yummy taffy.  Delivery was very quick.  If your a taffy lover, this is a deal.</td>\n",
       "    </tr>\n",
       "  </tbody>\n",
       "</table>\n",
       "</div>"
      ],
      "text/plain": [
       "   Id   ProductId          UserId                      ProfileName  \\\n",
       "0   1  B001E4KFG0  A3SGXH7AUHU8GW                       delmartian   \n",
       "1   2  B00813GRG4  A1D87F6ZCVE5NK                           dll pa   \n",
       "2   3  B000LQOCH0   ABXLMWJIXXAIN  Natalia Corres \"Natalia Corres\"   \n",
       "3   4  B000UA0QIQ  A395BORC6FGVXV                             Karl   \n",
       "4   5  B006K2ZZ7K  A1UQRSCLF8GW1T    Michael D. Bigham \"M. Wassir\"   \n",
       "\n",
       "   HelpfulnessNumerator  HelpfulnessDenominator  Score        Time  \\\n",
       "0                     1                       1      5  1303862400   \n",
       "1                     0                       0      1  1346976000   \n",
       "2                     1                       1      4  1219017600   \n",
       "3                     3                       3      2  1307923200   \n",
       "4                     0                       0      5  1350777600   \n",
       "\n",
       "                 Summary  \\\n",
       "0  Good Quality Dog Food   \n",
       "1      Not as Advertised   \n",
       "2  \"Delight\" says it all   \n",
       "3         Cough Medicine   \n",
       "4            Great taffy   \n",
       "\n",
       "                                                                                                                                                                                                      Text  \n",
       "0  I have bought several of the Vitality canned dog food products and have found them all to be of good quality. The product looks more like a stew than a processed meat and it smells better. My Labr...  \n",
       "1           Product arrived labeled as Jumbo Salted Peanuts...the peanuts were actually small sized unsalted. Not sure if this was an error or if the vendor intended to represent the product as \"Jumbo\".  \n",
       "2  This is a confection that has been around a few centuries.  It is a light, pillowy citrus gelatin with nuts - in this case Filberts. And it is cut into tiny squares and then liberally coated with ...  \n",
       "3  If you are looking for the secret ingredient in Robitussin I believe I have found it.  I got this in addition to the Root Beer Extract I ordered (which was good) and made some cherry soda.  The fl...  \n",
       "4                                                             Great taffy at a great price.  There was a wide assortment of yummy taffy.  Delivery was very quick.  If your a taffy lover, this is a deal.  "
      ]
     },
     "execution_count": 5,
     "metadata": {},
     "output_type": "execute_result"
    }
   ],
   "source": [
    "data.head()"
   ]
  },
  {
   "cell_type": "markdown",
   "metadata": {
    "colab_type": "text",
    "id": "r0xLYACiFxdJ"
   },
   "source": [
    "#### Preprocessing\n",
    "\n",
    "in this step, we will drop all the unwanted symbols, characters, etc. from the text that do not affect the objective of our problem.\n",
    "\n",
    "Here is the dictionary that we will use for expanding the contractions:"
   ]
  },
  {
   "cell_type": "code",
   "execution_count": 8,
   "metadata": {
    "colab": {},
    "colab_type": "code",
    "id": "0s6IY-x2FxdL"
   },
   "outputs": [],
   "source": [
    "contraction_mapping = {\"ain't\": \"is not\", \"aren't\": \"are not\",\"can't\": \"cannot\", \"'cause\": \"because\", \"could've\": \"could have\", \"couldn't\": \"could not\",\n",
    "                           \"didn't\": \"did not\",  \"doesn't\": \"does not\", \"don't\": \"do not\", \"hadn't\": \"had not\", \"hasn't\": \"has not\", \"haven't\": \"have not\",\n",
    "                           \"he'd\": \"he would\",\"he'll\": \"he will\", \"he's\": \"he is\", \"how'd\": \"how did\", \"how'd'y\": \"how do you\", \"how'll\": \"how will\", \"how's\": \"how is\",\n",
    "                           \"I'd\": \"I would\", \"I'd've\": \"I would have\", \"I'll\": \"I will\", \"I'll've\": \"I will have\",\"I'm\": \"I am\", \"I've\": \"I have\", \"i'd\": \"i would\",\n",
    "                           \"i'd've\": \"i would have\", \"i'll\": \"i will\",  \"i'll've\": \"i will have\",\"i'm\": \"i am\", \"i've\": \"i have\", \"isn't\": \"is not\", \"it'd\": \"it would\",\n",
    "                           \"it'd've\": \"it would have\", \"it'll\": \"it will\", \"it'll've\": \"it will have\",\"it's\": \"it is\", \"let's\": \"let us\", \"ma'am\": \"madam\",\n",
    "                           \"mayn't\": \"may not\", \"might've\": \"might have\",\"mightn't\": \"might not\",\"mightn't've\": \"might not have\", \"must've\": \"must have\",\n",
    "                           \"mustn't\": \"must not\", \"mustn't've\": \"must not have\", \"needn't\": \"need not\", \"needn't've\": \"need not have\",\"o'clock\": \"of the clock\",\n",
    "                           \"oughtn't\": \"ought not\", \"oughtn't've\": \"ought not have\", \"shan't\": \"shall not\", \"sha'n't\": \"shall not\", \"shan't've\": \"shall not have\",\n",
    "                           \"she'd\": \"she would\", \"she'd've\": \"she would have\", \"she'll\": \"she will\", \"she'll've\": \"she will have\", \"she's\": \"she is\",\n",
    "                           \"should've\": \"should have\", \"shouldn't\": \"should not\", \"shouldn't've\": \"should not have\", \"so've\": \"so have\",\"so's\": \"so as\",\n",
    "                           \"this's\": \"this is\",\"that'd\": \"that would\", \"that'd've\": \"that would have\", \"that's\": \"that is\", \"there'd\": \"there would\",\n",
    "                           \"there'd've\": \"there would have\", \"there's\": \"there is\", \"here's\": \"here is\",\"they'd\": \"they would\", \"they'd've\": \"they would have\",\n",
    "                           \"they'll\": \"they will\", \"they'll've\": \"they will have\", \"they're\": \"they are\", \"they've\": \"they have\", \"to've\": \"to have\",\n",
    "                           \"wasn't\": \"was not\", \"we'd\": \"we would\", \"we'd've\": \"we would have\", \"we'll\": \"we will\", \"we'll've\": \"we will have\", \"we're\": \"we are\",\n",
    "                           \"we've\": \"we have\", \"weren't\": \"were not\", \"what'll\": \"what will\", \"what'll've\": \"what will have\", \"what're\": \"what are\",\n",
    "                           \"what's\": \"what is\", \"what've\": \"what have\", \"when's\": \"when is\", \"when've\": \"when have\", \"where'd\": \"where did\", \"where's\": \"where is\",\n",
    "                           \"where've\": \"where have\", \"who'll\": \"who will\", \"who'll've\": \"who will have\", \"who's\": \"who is\", \"who've\": \"who have\",\n",
    "                           \"why's\": \"why is\", \"why've\": \"why have\", \"will've\": \"will have\", \"won't\": \"will not\", \"won't've\": \"will not have\",\n",
    "                           \"would've\": \"would have\", \"wouldn't\": \"would not\", \"wouldn't've\": \"would not have\", \"y'all\": \"you all\",\n",
    "                           \"y'all'd\": \"you all would\",\"y'all'd've\": \"you all would have\",\"y'all're\": \"you all are\",\"y'all've\": \"you all have\",\n",
    "                           \"you'd\": \"you would\", \"you'd've\": \"you would have\", \"you'll\": \"you will\", \"you'll've\": \"you will have\",\n",
    "                           \"you're\": \"you are\", \"you've\": \"you have\"}"
   ]
  },
  {
   "cell_type": "markdown",
   "metadata": {
    "colab_type": "text",
    "id": "2JFRXFHmI7Mj"
   },
   "source": [
    "#### Data Cleaning\n",
    "\n",
    "1.Convert everything to lowercase\n",
    "\n",
    "2.Contraction mapping\n",
    "\n",
    "3.Remove (‘s)\n",
    "\n",
    "4.Remove any text inside the parenthesis ( )\n",
    "\n",
    "5.Eliminate punctuations and special characters\n",
    "\n",
    "6.Remove stopwords\n",
    "\n",
    "7.Remove short words"
   ]
  },
  {
   "cell_type": "markdown",
   "metadata": {},
   "source": [
    "In computing, stop words are words which are filtered out before or after processing of natural language data (text). Stop words are generally the most common words in a language.\n"
   ]
  },
  {
   "cell_type": "code",
   "execution_count": 9,
   "metadata": {
    "colab": {},
    "colab_type": "code",
    "id": "XZr-u3OEFxdT"
   },
   "outputs": [],
   "source": [
    "stop_words = set(stopwords.words('english'))  \n",
    "# 'a',\n",
    "#  'about',\n",
    "#  'above',\n",
    "#  'after',\n",
    "#  'again',\n",
    "#  'against',\n",
    "#  'ain',\n",
    "#  'all',\n",
    "#  'am',"
   ]
  },
  {
   "cell_type": "code",
   "execution_count": 10,
   "metadata": {
    "colab": {},
    "colab_type": "code",
    "id": "XZr-u3OEFxdT"
   },
   "outputs": [],
   "source": [
    "def text_cleaner(text,num):\n",
    "    newString = text.lower()\n",
    "    newString = re.sub(r'\\([^)]*\\)', '', newString)\n",
    "    newString = re.sub('\"','', newString)\n",
    "    newString = ' '.join([contraction_mapping[t] if t in contraction_mapping else t for t in newString.split(\" \")]) \n",
    "    newString = re.sub(r\"'s\\b\",\"\",newString)\n",
    "    newString = re.sub(\"[^a-zA-Z]\", \" \", newString)\n",
    "    newString = re.sub('[m]{2,}', 'mm', newString)\n",
    "    if(num==0):\n",
    "        tokens = [w for w in newString.split() if not w in stop_words]\n",
    "    else:\n",
    "        tokens=newString.split()\n",
    "    long_words=[]\n",
    "    for i in tokens:\n",
    "        if len(i)>1:                                                 #removing short word\n",
    "            long_words.append(i)   \n",
    "    return (\" \".join(long_words)).strip()\n",
    "    print(newString)\n"
   ]
  },
  {
   "cell_type": "code",
   "execution_count": 11,
   "metadata": {
    "colab": {},
    "colab_type": "code",
    "id": "A2QAeCHWFxdY"
   },
   "outputs": [],
   "source": [
    "#call the function\n",
    "cleaned_text = []\n",
    "for t in data['Text']:\n",
    "    cleaned_text.append(text_cleaner(t,0)) "
   ]
  },
  {
   "cell_type": "markdown",
   "metadata": {
    "colab_type": "text",
    "id": "snRZY8wjLao2"
   },
   "source": [
    "#### Sample cleaned Text"
   ]
  },
  {
   "cell_type": "code",
   "execution_count": 12,
   "metadata": {
    "colab": {},
    "colab_type": "code",
    "id": "NCAIkhWbFxdh",
    "outputId": "c2da1a36-4488-4e32-ef9e-fcfe496e374d"
   },
   "outputs": [
    {
     "data": {
      "text/plain": [
       "['bought several vitality canned dog food products found good quality product looks like stew processed meat smells better labrador finicky appreciates product better',\n",
       " 'product arrived labeled jumbo salted peanuts peanuts actually small sized unsalted sure error vendor intended represent product jumbo',\n",
       " 'confection around centuries light pillowy citrus gelatin nuts case filberts cut tiny squares liberally coated powdered sugar tiny mouthful heaven chewy flavorful highly recommend yummy treat familiar story lewis lion witch wardrobe treat seduces edmund selling brother sisters witch',\n",
       " 'looking secret ingredient robitussin believe found got addition root beer extract ordered made cherry soda flavor medicinal',\n",
       " 'great taffy great price wide assortment yummy taffy delivery quick taffy lover deal']"
      ]
     },
     "execution_count": 12,
     "metadata": {},
     "output_type": "execute_result"
    }
   ],
   "source": [
    "cleaned_text[:5]  "
   ]
  },
  {
   "cell_type": "code",
   "execution_count": 13,
   "metadata": {
    "colab": {},
    "colab_type": "code",
    "id": "GsRXocxoFxd-"
   },
   "outputs": [],
   "source": [
    "#call the function\n",
    "cleaned_summary = []\n",
    "for t in data['Summary']:\n",
    "    cleaned_summary.append(text_cleaner(t,1))"
   ]
  },
  {
   "cell_type": "markdown",
   "metadata": {
    "colab_type": "text",
    "id": "oZeD0gs6Lnb-"
   },
   "source": [
    "#### Sample summary Text"
   ]
  },
  {
   "cell_type": "code",
   "execution_count": 14,
   "metadata": {
    "colab": {},
    "colab_type": "code",
    "id": "jQJdZcAzFxee",
    "outputId": "a1fbe683-c03f-4afb-addf-e075021c121b"
   },
   "outputs": [
    {
     "data": {
      "text/plain": [
       "['good quality dog food',\n",
       " 'not as advertised',\n",
       " 'delight says it all',\n",
       " 'cough medicine',\n",
       " 'great taffy',\n",
       " 'nice taffy',\n",
       " 'great just as good as the expensive brands',\n",
       " 'wonderful tasty taffy',\n",
       " 'yay barley',\n",
       " 'healthy dog food']"
      ]
     },
     "execution_count": 14,
     "metadata": {},
     "output_type": "execute_result"
    }
   ],
   "source": [
    "cleaned_summary[:10]"
   ]
  },
  {
   "cell_type": "code",
   "execution_count": 15,
   "metadata": {
    "colab": {},
    "colab_type": "code",
    "id": "L1zLpnqsFxey"
   },
   "outputs": [],
   "source": [
    "data['cleaned_text']=cleaned_text\n",
    "data['cleaned_summary']=cleaned_summary"
   ]
  },
  {
   "cell_type": "markdown",
   "metadata": {
    "colab_type": "text",
    "id": "Vm8Fk2TCL7Sp"
   },
   "source": [
    "####  Distribution of the sequences\n",
    "\n",
    "Here, we are analyzing the length of the reviews and the summary to get an overall idea about the distribution of length of the text. This will help us fix the maximum length of the sequence:"
   ]
  },
  {
   "cell_type": "code",
   "execution_count": 16,
   "metadata": {
    "colab": {},
    "colab_type": "code",
    "id": "MdF76AHHFxgw",
    "outputId": "e3bbe165-4235-482f-bfd4-36a3f1d95290"
   },
   "outputs": [
    {
     "data": {
      "image/png": "[encoded data removed]",
      "text/plain": [
       "<Figure size 432x288 with 2 Axes>"
      ]
     },
     "metadata": {
      "needs_background": "light"
     },
     "output_type": "display_data"
    }
   ],
   "source": [
    "import matplotlib.pyplot as plt\n",
    "\n",
    "text_word_count = []\n",
    "summary_word_count = []\n",
    "\n",
    "# populate the lists with sentence lengths\n",
    "for i in data['cleaned_text']:\n",
    "      text_word_count.append(len(i.split()))\n",
    "\n",
    "for i in data['cleaned_summary']:\n",
    "      summary_word_count.append(len(i.split()))\n",
    "\n",
    "length_df = pd.DataFrame({'text':text_word_count, 'summary':summary_word_count})\n",
    "\n",
    "length_df.hist(bins = 30)\n",
    "plt.show()"
   ]
  },
  {
   "cell_type": "code",
   "execution_count": 17,
   "metadata": {
    "colab": {},
    "colab_type": "code",
    "id": "7JRjwdIOFxg3",
    "outputId": "f968be82-c539-471d-ce23-16f18b059ea0"
   },
   "outputs": [
    {
     "name": "stdout",
     "output_type": "stream",
     "text": [
      "0.9788737969486887\n"
     ]
    }
   ],
   "source": [
    "cnt=0\n",
    "for i in data['cleaned_summary']:\n",
    "    if(len(i.split())<=10):\n",
    "        cnt=cnt+1\n",
    "print(cnt/len(data['cleaned_summary']))"
   ]
  },
  {
   "cell_type": "markdown",
   "metadata": {
    "colab_type": "text",
    "id": "yYB4Ga9KMjEu"
   },
   "source": [
    "We observe that 97.8% of the summaries have length below 10. So, we can fix maximum length of summary to 10.\n",
    "\n",
    "Let us fix the maximum length of review to 50"
   ]
  },
  {
   "cell_type": "code",
   "execution_count": 18,
   "metadata": {
    "colab": {},
    "colab_type": "code",
    "id": "ZKD5VOWqFxhC"
   },
   "outputs": [],
   "source": [
    "max_text_len=50\n",
    "max_summary_len=10"
   ]
  },
  {
   "cell_type": "markdown",
   "metadata": {
    "colab_type": "text",
    "id": "E6d48E-8M4VO"
   },
   "source": [
    "Selecting the reviews and summaries whose length falls below or equal to **max_text_len** and **max_summary_len**"
   ]
  },
  {
   "cell_type": "code",
   "execution_count": 19,
   "metadata": {
    "colab": {},
    "colab_type": "code",
    "id": "yY0tEJP0FxhI"
   },
   "outputs": [],
   "source": [
    "cleaned_text =np.array(data['cleaned_text'])\n",
    "cleaned_summary=np.array(data['cleaned_summary'])\n",
    "\n",
    "short_text=[]\n",
    "short_summary=[]\n",
    "\n",
    "for i in range(len(cleaned_text)):\n",
    "    if(len(cleaned_summary[i].split())<=max_summary_len and len(cleaned_text[i].split())<=max_text_len):\n",
    "        short_text.append(cleaned_text[i])\n",
    "        short_summary.append(cleaned_summary[i])\n",
    "        \n",
    "df=pd.DataFrame({'text':short_text,'summary':short_summary})"
   ]
  },
  {
   "cell_type": "markdown",
   "metadata": {
    "colab_type": "text",
    "id": "tR1uh8xSNUma"
   },
   "source": [
    "Adding the **START** and **END** special tokens at the beginning and end of the summary. Here, we have chosen **sostok** and **eostok** as START and END tokens."
   ]
  },
  {
   "cell_type": "code",
   "execution_count": 20,
   "metadata": {
    "colab": {},
    "colab_type": "code",
    "id": "EwLUH78CFxhg"
   },
   "outputs": [],
   "source": [
    "df['summary'] = df['summary'].apply(lambda x : 'sostok '+ x + ' eostok')"
   ]
  },
  {
   "cell_type": "code",
   "execution_count": 21,
   "metadata": {},
   "outputs": [],
   "source": [
    "ind=[]\n",
    "for i in range(len(df['summary'])):\n",
    "    cnt=0\n",
    "    for j in df['summary'][i]:\n",
    "        if j!=0:\n",
    "            cnt=cnt+1\n",
    "    if(cnt==2):\n",
    "        ind.append(i)\n",
    "\n",
    "df['summary'] = np.delete(df['summary'],ind, axis=0)\n",
    "df['text']=np.delete(df['text'],ind, axis=0)"
   ]
  },
  {
   "cell_type": "markdown",
   "metadata": {
    "colab_type": "text",
    "id": "1GlcX4RFOh13"
   },
   "source": [
    "#### Splitting dataset into training and validation set(9:1)"
   ]
  },
  {
   "cell_type": "code",
   "execution_count": 22,
   "metadata": {
    "colab": {},
    "colab_type": "code",
    "id": "RakakKHcFxhl"
   },
   "outputs": [],
   "source": [
    "x_tr,x_val,y_tr,y_val=train_test_split(np.array(df['text']),np.array(df['summary']),test_size=0.1,random_state=0,shuffle=True) "
   ]
  },
  {
   "cell_type": "code",
   "execution_count": 23,
   "metadata": {},
   "outputs": [
    {
     "data": {
      "text/plain": [
       "(59961,)"
      ]
     },
     "execution_count": 23,
     "metadata": {},
     "output_type": "execute_result"
    }
   ],
   "source": [
    "x_tr.shape"
   ]
  },
  {
   "cell_type": "markdown",
   "metadata": {
    "colab_type": "text",
    "id": "Vq1mqyOHOtIl"
   },
   "source": [
    "#### Text tokenizer to convert sequence of word into sequence of numbers"
   ]
  },
  {
   "cell_type": "code",
   "execution_count": 24,
   "metadata": {
    "colab": {},
    "colab_type": "code",
    "id": "J2giEsF3Fxh3"
   },
   "outputs": [],
   "source": [
    "#prepare a tokenizer for reviews on training data\n",
    "x_tokenizer = Tokenizer()\n",
    "x_tokenizer.fit_on_texts(list(x_tr))"
   ]
  },
  {
   "cell_type": "code",
   "execution_count": 25,
   "metadata": {
    "colab": {},
    "colab_type": "code",
    "id": "J2giEsF3Fxh3"
   },
   "outputs": [],
   "source": [
    "#convert text sequences into integer sequences\n",
    "x_tr    =   x_tokenizer.texts_to_sequences(x_tr) \n",
    "x_val   =   x_tokenizer.texts_to_sequences(x_val)"
   ]
  },
  {
   "cell_type": "code",
   "execution_count": 26,
   "metadata": {
    "colab": {},
    "colab_type": "code",
    "id": "J2giEsF3Fxh3"
   },
   "outputs": [],
   "source": [
    "#padding zero upto maximum length\n",
    "x_tr    =   pad_sequences(x_tr,  maxlen=max_text_len, padding='post') \n",
    "x_val   =   pad_sequences(x_val, maxlen=max_text_len, padding='post')\n",
    "\n",
    "x_voc   =  len(x_tokenizer.word_index) +1"
   ]
  },
  {
   "cell_type": "code",
   "execution_count": 27,
   "metadata": {
    "colab": {},
    "colab_type": "code",
    "id": "DCbGMsm4FxiA",
    "outputId": "2d9165f0-e542-4114-91f3-e070d483fce9"
   },
   "outputs": [
    {
     "data": {
      "text/plain": [
       "32392"
      ]
     },
     "execution_count": 27,
     "metadata": {},
     "output_type": "execute_result"
    }
   ],
   "source": [
    "x_voc"
   ]
  },
  {
   "cell_type": "markdown",
   "metadata": {
    "colab_type": "text",
    "id": "uQfKP3sqRxi9"
   },
   "source": [
    "####  Summary Tokenizer"
   ]
  },
  {
   "cell_type": "code",
   "execution_count": 28,
   "metadata": {
    "colab": {},
    "colab_type": "code",
    "id": "-fswLvIgFxiR"
   },
   "outputs": [],
   "source": [
    "#prepare a tokenizer for reviews on training data\n",
    "y_tokenizer = Tokenizer() \n",
    "y_tokenizer.fit_on_texts(list(y_tr))"
   ]
  },
  {
   "cell_type": "code",
   "execution_count": 29,
   "metadata": {
    "colab": {},
    "colab_type": "code",
    "id": "-fswLvIgFxiR"
   },
   "outputs": [],
   "source": [
    "#convert text sequences into integer sequences\n",
    "y_tr_seq    =   y_tokenizer.texts_to_sequences(y_tr) \n",
    "y_val_seq   =   y_tokenizer.texts_to_sequences(y_val) "
   ]
  },
  {
   "cell_type": "code",
   "execution_count": 30,
   "metadata": {
    "colab": {},
    "colab_type": "code",
    "id": "-fswLvIgFxiR"
   },
   "outputs": [],
   "source": [
    "#padding zero upto maximum length\n",
    "y_tr    =   pad_sequences(y_tr_seq, maxlen=max_summary_len, padding='post')\n",
    "y_val   =   pad_sequences(y_val_seq, maxlen=max_summary_len, padding='post')\n",
    "\n",
    "#size of vocabulary\n",
    "y_voc  =   len(y_tokenizer.word_index) +1"
   ]
  },
  {
   "cell_type": "code",
   "execution_count": 31,
   "metadata": {},
   "outputs": [
    {
     "data": {
      "text/plain": [
       "11324"
      ]
     },
     "execution_count": 31,
     "metadata": {},
     "output_type": "execute_result"
    }
   ],
   "source": [
    "y_voc"
   ]
  },
  {
   "cell_type": "markdown",
   "metadata": {
    "colab_type": "text",
    "id": "wOtlDcthFxip"
   },
   "source": [
    "# Model building\n",
    "\n",
    "\n",
    "**Return Sequences = True**: When the return sequences parameter is set to True, LSTM produces the hidden state and cell state for every timestep\n",
    "\n",
    "**Return State = True**: When return state = True, LSTM produces the hidden state and cell state of the last timestep only\n",
    "\n",
    "**Initial State**: This is used to initialize the internal states of the LSTM for the first timestep\n",
    "\n",
    "**Stacked LSTM**: Stacked LSTM has multiple layers of LSTM stacked on top of each other. \n",
    "This leads to a better representation of the sequence.\n",
    "\n",
    "Here, we are building a 2 stacked LSTM for the encoder:"
   ]
  },
  {
   "cell_type": "code",
   "execution_count": 32,
   "metadata": {
    "colab": {},
    "colab_type": "code",
    "id": "zXef38nBFxir",
    "outputId": "7ae99521-46f8-4c6f-9cba-4979deffeee8"
   },
   "outputs": [
    {
     "name": "stdout",
     "output_type": "stream",
     "text": [
      "Model: \"model\"\n",
      "__________________________________________________________________________________________________\n",
      "Layer (type)                    Output Shape         Param #     Connected to                     \n",
      "==================================================================================================\n",
      "input_1 (InputLayer)            [(None, 50)]         0                                            \n",
      "__________________________________________________________________________________________________\n",
      "embedding (Embedding)           (None, 50, 15)       485880      input_1[0][0]                    \n",
      "__________________________________________________________________________________________________\n",
      "input_2 (InputLayer)            [(None, None)]       0                                            \n",
      "__________________________________________________________________________________________________\n",
      "lstm (LSTM)                     [(None, 50, 300), (N 379200      embedding[0][0]                  \n",
      "__________________________________________________________________________________________________\n",
      "embedding_1 (Embedding)         (None, None, 15)     169860      input_2[0][0]                    \n",
      "__________________________________________________________________________________________________\n",
      "lstm_1 (LSTM)                   [(None, 50, 300), (N 721200      lstm[0][0]                       \n",
      "__________________________________________________________________________________________________\n",
      "lstm_2 (LSTM)                   [(None, None, 300),  379200      embedding_1[0][0]                \n",
      "                                                                 lstm_1[0][1]                     \n",
      "                                                                 lstm_1[0][2]                     \n",
      "__________________________________________________________________________________________________\n",
      "attention_layer (AttentionLayer ((None, None, 300),  180300      lstm_1[0][0]                     \n",
      "                                                                 lstm_2[0][0]                     \n",
      "__________________________________________________________________________________________________\n",
      "concat_layer (Concatenate)      (None, None, 600)    0           lstm_2[0][0]                     \n",
      "                                                                 attention_layer[0][0]            \n",
      "__________________________________________________________________________________________________\n",
      "time_distributed (TimeDistribut (None, None, 11324)  6805724     concat_layer[0][0]               \n",
      "==================================================================================================\n",
      "Total params: 9,121,364\n",
      "Trainable params: 9,121,364\n",
      "Non-trainable params: 0\n",
      "__________________________________________________________________________________________________\n"
     ]
    }
   ],
   "source": [
    "from tensorflow.keras import backend as K \n",
    "K.clear_session()\n",
    "\n",
    "latent_dim = 300\n",
    "embedding_dim=15\n",
    "\n",
    "# Encoder\n",
    "encoder_inputs = Input(shape=(max_text_len,))\n",
    "\n",
    "#embedding layer\n",
    "enc_emb =  Embedding(x_voc, embedding_dim,trainable=True)(encoder_inputs)\n",
    "\n",
    "#encoder lstm 1\n",
    "encoder_lstm1 = LSTM(latent_dim,return_sequences=True,return_state=True,dropout=0.4,recurrent_dropout=0.4)\n",
    "encoder_output1, state_h1, state_c1 = encoder_lstm1(enc_emb)\n",
    "\n",
    "# #encoder lstm 2\n",
    "encoder_lstm2 = LSTM(latent_dim,return_sequences=True,return_state=True,dropout=0.4,recurrent_dropout=0.4)\n",
    "encoder_outputs, state_h, state_c = encoder_lstm2(encoder_output1)\n",
    "\n",
    "# Set up the decoder, using `encoder_states` as initial state.\n",
    "decoder_inputs = Input(shape=(None,))\n",
    "\n",
    "#embedding layer\n",
    "dec_emb_layer = Embedding(y_voc, embedding_dim,trainable=True)\n",
    "dec_emb = dec_emb_layer(decoder_inputs)\n",
    "\n",
    "decoder_lstm = LSTM(latent_dim, return_sequences=True, return_state=True,dropout=0.4,recurrent_dropout=0.2)\n",
    "decoder_outputs,decoder_fwd_state, decoder_back_state = decoder_lstm(dec_emb,initial_state=[state_h, state_c])\n",
    "\n",
    "# Attention layer\n",
    "attn_layer = AttentionLayer(name='attention_layer')\n",
    "attn_out, attn_states = attn_layer([encoder_outputs, decoder_outputs])\n",
    "\n",
    "# Concat attention input and decoder LSTM output\n",
    "decoder_concat_input = Concatenate(axis=-1, name='concat_layer')([decoder_outputs, attn_out])\n",
    "\n",
    "#dense layer\n",
    "decoder_dense =  TimeDistributed(Dense(y_voc, activation='softmax'))\n",
    "decoder_outputs = decoder_dense(decoder_concat_input)\n",
    "\n",
    "# Define the model \n",
    "model = Model([encoder_inputs, decoder_inputs], decoder_outputs)\n",
    "\n",
    "model.summary() "
   ]
  },
  {
   "cell_type": "code",
   "execution_count": 33,
   "metadata": {},
   "outputs": [
    {
     "data": {
      "text/plain": [
       "TensorShape([None, 50, 300])"
      ]
     },
     "execution_count": 33,
     "metadata": {},
     "output_type": "execute_result"
    }
   ],
   "source": [
    "encoder_output1.shape"
   ]
  },
  {
   "cell_type": "markdown",
   "metadata": {
    "colab_type": "text",
    "id": "0ZVlfRuMUcoP"
   },
   "source": [
    "we are using the sparse categorical cross-entropy as the loss function."
   ]
  },
  {
   "cell_type": "code",
   "execution_count": 34,
   "metadata": {
    "colab": {},
    "colab_type": "code",
    "id": "Lwfi1Fm8Fxiz"
   },
   "outputs": [],
   "source": [
    "model.compile(optimizer='rmsprop', loss='sparse_categorical_crossentropy')"
   ]
  },
  {
   "cell_type": "markdown",
   "metadata": {
    "colab_type": "text",
    "id": "p0ykDbxfUhyw"
   },
   "source": [
    "Early stopping is used to stop training the neural network at the right time by monitoring a user-specified metric. Here, we are monitoring the validation loss (val_loss). Our model will stop training once the validation loss increases:\n"
   ]
  },
  {
   "cell_type": "code",
   "execution_count": 35,
   "metadata": {
    "colab": {},
    "colab_type": "code",
    "id": "s-A3J92MUljB"
   },
   "outputs": [],
   "source": [
    "es = EarlyStopping(monitor='val_loss', mode='min', verbose=1,patience=2)"
   ]
  },
  {
   "cell_type": "markdown",
   "metadata": {
    "colab_type": "text",
    "id": "Mw6CVECaUq5b"
   },
   "source": [
    "We’ll train the model on a batch size of 128 and validate it on the holdout set (which is 10% of our dataset):"
   ]
  },
  {
   "cell_type": "code",
   "execution_count": 36,
   "metadata": {
    "colab": {},
    "colab_type": "code",
    "id": "ETnPzA4OFxi3",
    "outputId": "477e374f-7cf2-4d60-f86e-2c49c9cebedb",
    "scrolled": false
   },
   "outputs": [
    {
     "name": "stdout",
     "output_type": "stream",
     "text": [
      "Train on 59961 samples, validate on 6663 samples\n",
      "Epoch 1/50\n",
      "59961/59961 [==============================] - 2369s 40ms/sample - loss: 2.8769 - val_loss: 2.5089\n",
      "Epoch 2/50\n",
      "59961/59961 [==============================] - 2135s 36ms/sample - loss: 2.5710 - val_loss: 2.4164\n",
      "Epoch 3/50\n",
      "59961/59961 [==============================] - 2162s 36ms/sample - loss: 2.5021 - val_loss: 2.3717\n",
      "Epoch 4/50\n",
      "59961/59961 [==============================] - 3683s 61ms/sample - loss: 2.4565 - val_loss: 2.3329\n",
      "Epoch 5/50\n",
      "59961/59961 [==============================] - 3569s 60ms/sample - loss: 2.4167 - val_loss: 2.2976\n",
      "Epoch 6/50\n",
      "59961/59961 [==============================] - 34846s 581ms/sample - loss: 2.3843 - val_loss: 2.2768\n",
      "Epoch 7/50\n",
      "59961/59961 [==============================] - 1791s 30ms/sample - loss: 2.3569 - val_loss: 2.2597\n",
      "Epoch 8/50\n",
      "59961/59961 [==============================] - 2162s 36ms/sample - loss: 2.3328 - val_loss: 2.2469\n",
      "Epoch 9/50\n",
      "59961/59961 [==============================] - 3249s 54ms/sample - loss: 2.3108 - val_loss: 2.2212\n",
      "Epoch 10/50\n",
      "59961/59961 [==============================] - 5141s 86ms/sample - loss: 2.2910 - val_loss: 2.2108\n",
      "Epoch 11/50\n",
      "59961/59961 [==============================] - 5334s 89ms/sample - loss: 2.2728 - val_loss: 2.1948\n",
      "Epoch 12/50\n",
      "59961/59961 [==============================] - 4077s 68ms/sample - loss: 2.2571 - val_loss: 2.1918\n",
      "Epoch 13/50\n",
      "59961/59961 [==============================] - 1980s 33ms/sample - loss: 2.2423 - val_loss: 2.1797\n",
      "Epoch 14/50\n",
      "59961/59961 [==============================] - 4376s 73ms/sample - loss: 2.2309 - val_loss: 2.1796\n",
      "Epoch 15/50\n",
      "59961/59961 [==============================] - 2295s 38ms/sample - loss: 2.2180 - val_loss: 2.1654\n",
      "Epoch 16/50\n",
      "59961/59961 [==============================] - 2424s 40ms/sample - loss: 2.2105 - val_loss: 2.1638\n",
      "Epoch 17/50\n",
      "59961/59961 [==============================] - 2130s 36ms/sample - loss: 2.1999 - val_loss: 2.1615\n",
      "Epoch 18/50\n",
      "59961/59961 [==============================] - 2266s 38ms/sample - loss: 2.1877 - val_loss: 2.1563\n",
      "Epoch 19/50\n",
      "59961/59961 [==============================] - 1967s 33ms/sample - loss: 2.1803 - val_loss: 2.1398\n",
      "Epoch 20/50\n",
      "59961/59961 [==============================] - 1816s 30ms/sample - loss: 2.1698 - val_loss: 2.1370\n",
      "Epoch 21/50\n",
      "59961/59961 [==============================] - 1847s 31ms/sample - loss: 2.1619 - val_loss: 2.1312\n",
      "Epoch 22/50\n",
      "59961/59961 [==============================] - 1911s 32ms/sample - loss: 2.1548 - val_loss: 2.1235\n",
      "Epoch 23/50\n",
      "59961/59961 [==============================] - 2092s 35ms/sample - loss: 2.1479 - val_loss: 2.1355\n",
      "Epoch 24/50\n",
      "59961/59961 [==============================] - 2037s 34ms/sample - loss: 2.1426 - val_loss: 2.1237\n",
      "Epoch 00024: early stopping\n"
     ]
    }
   ],
   "source": [
    "history=model.fit([x_tr,y_tr[:,:-1]], y_tr.reshape(y_tr.shape[0],y_tr.shape[1], 1)[:,1:] ,epochs=50,callbacks=[es],batch_size=128, validation_data=([x_val,y_val[:,:-1]], y_val.reshape(y_val.shape[0],y_val.shape[1], 1)[:,1:]))"
   ]
  },
  {
   "cell_type": "markdown",
   "metadata": {
    "colab_type": "text",
    "id": "0ezKYOp2UxG5"
   },
   "source": [
    "####  Diagnostic plot"
   ]
  },
  {
   "cell_type": "code",
   "execution_count": 37,
   "metadata": {
    "colab": {},
    "colab_type": "code",
    "id": "tDTNLAURFxjE",
    "outputId": "e2ea6e44-3931-4014-97a1-03fa2a441228"
   },
   "outputs": [
    {
     "data": {
      "image/png": "[encoded data removed]",
      "text/plain": [
       "<Figure size 432x288 with 1 Axes>"
      ]
     },
     "metadata": {
      "needs_background": "light"
     },
     "output_type": "display_data"
    }
   ],
   "source": [
    "from matplotlib import pyplot\n",
    "pyplot.plot(history.history['loss'], label='train')\n",
    "pyplot.plot(history.history['val_loss'], label='test')\n",
    "pyplot.legend()\n",
    "pyplot.show()"
   ]
  },
  {
   "cell_type": "code",
   "execution_count": 38,
   "metadata": {
    "colab": {},
    "colab_type": "code",
    "id": "sBX0zZnOFxjW"
   },
   "outputs": [],
   "source": [
    "reverse_target_word_index=y_tokenizer.index_word\n",
    "reverse_source_word_index=x_tokenizer.index_word\n",
    "target_word_index=y_tokenizer.word_index"
   ]
  },
  {
   "cell_type": "markdown",
   "metadata": {
    "colab_type": "text",
    "id": "eM_nU_VvFxjq"
   },
   "source": [
    "# Inference\n",
    "\n",
    "Set up the inference for the encoder and decoder:"
   ]
  },
  {
   "cell_type": "code",
   "execution_count": 39,
   "metadata": {
    "colab": {},
    "colab_type": "code",
    "id": "9QkrNV-4Fxjt"
   },
   "outputs": [],
   "source": [
    "# Encode the input sequence to get the feature vector\n",
    "encoder_model = Model(inputs=encoder_inputs,outputs=[encoder_outputs, state_h, state_c])\n",
    "\n",
    "# Decoder setup\n",
    "# Below tensors will hold the states of the previous time step\n",
    "decoder_state_input_h = Input(shape=(latent_dim,))\n",
    "decoder_state_input_c = Input(shape=(latent_dim,))\n",
    "decoder_hidden_state_input = Input(shape=(max_text_len,latent_dim))\n",
    "\n",
    "# Get the embeddings of the decoder sequence\n",
    "dec_emb2= dec_emb_layer(decoder_inputs) \n",
    "# To predict the next word in the sequence, set the initial states to the states from the previous time step\n",
    "decoder_outputs2, state_h2, state_c2 = decoder_lstm(dec_emb2, initial_state=[decoder_state_input_h, decoder_state_input_c])\n",
    "\n",
    "#attention inference\n",
    "attn_out_inf, attn_states_inf = attn_layer([decoder_hidden_state_input, decoder_outputs2])\n",
    "decoder_inf_concat = Concatenate(axis=-1, name='concat')([decoder_outputs2, attn_out_inf])\n",
    "\n",
    "# A dense softmax layer to generate prob dist. over the target vocabulary\n",
    "decoder_outputs2 = decoder_dense(decoder_inf_concat) \n",
    "\n",
    "# Final decoder model\n",
    "decoder_model = Model(\n",
    "    [decoder_inputs] + [decoder_hidden_state_input,decoder_state_input_h, decoder_state_input_c],\n",
    "    [decoder_outputs2] + [state_h2, state_c2])"
   ]
  },
  {
   "cell_type": "markdown",
   "metadata": {
    "colab_type": "text",
    "id": "zOiyk4ToWe74"
   },
   "source": [
    "We are defining a function below which is the implementation of the inference process."
   ]
  },
  {
   "cell_type": "code",
   "execution_count": 40,
   "metadata": {
    "colab": {},
    "colab_type": "code",
    "id": "6f6TTFnBFxj6"
   },
   "outputs": [],
   "source": [
    "def decode_sequence(input_seq):\n",
    "    # Encode the input as state vectors.\n",
    "    e_out, e_h, e_c = encoder_model.predict(input_seq)\n",
    "    \n",
    "    # Generate empty target sequence of length 1.\n",
    "    target_seq = np.zeros((1,1))\n",
    "    \n",
    "    # Populate the first word of target sequence with the start word.\n",
    "    target_seq[0, 0] = target_word_index['sostok']\n",
    "\n",
    "    stop_condition = False\n",
    "    decoded_sentence = ''\n",
    "    while not stop_condition:\n",
    "      \n",
    "        output_tokens, h, c = decoder_model.predict([target_seq] + [e_out, e_h, e_c])\n",
    "\n",
    "        # Sample a token\n",
    "        sampled_token_index = np.argmax(output_tokens[0, -1, :])\n",
    "        sampled_token = reverse_target_word_index[sampled_token_index]\n",
    "        \n",
    "        if(sampled_token!='eostok'):\n",
    "            decoded_sentence += ' '+sampled_token\n",
    "\n",
    "        # Exit condition: either hit max length or find stop word.\n",
    "        if (sampled_token == 'eostok'  or len(decoded_sentence.split()) >= (max_summary_len-1)):\n",
    "            stop_condition = True\n",
    "\n",
    "        # Update the target sequence (of length 1).\n",
    "        target_seq = np.zeros((1,1))\n",
    "        target_seq[0, 0] = sampled_token_index\n",
    "\n",
    "        # Update internal states\n",
    "        e_h, e_c = h, c\n",
    "\n",
    "    return decoded_sentence"
   ]
  },
  {
   "cell_type": "markdown",
   "metadata": {
    "colab_type": "text",
    "id": "6GuDf4TPWt6_"
   },
   "source": [
    "converting an integer sequence to a word sequence for summary as well as the reviews:"
   ]
  },
  {
   "cell_type": "code",
   "execution_count": 41,
   "metadata": {
    "colab": {},
    "colab_type": "code",
    "id": "aAUntznIFxj9"
   },
   "outputs": [],
   "source": [
    "def seq2summary(input_seq):\n",
    "    newString=''\n",
    "    for i in input_seq:\n",
    "        if((i!=0 and i!=target_word_index['sostok']) and i!=target_word_index['eostok']):\n",
    "            newString=newString+reverse_target_word_index[i]+' '\n",
    "    return newString\n",
    "\n",
    "def seq2text(input_seq):\n",
    "    newString=''\n",
    "    for i in input_seq:\n",
    "        if(i!=0):\n",
    "            newString=newString+reverse_source_word_index[i]+' '\n",
    "    return newString"
   ]
  },
  {
   "cell_type": "markdown",
   "metadata": {
    "colab_type": "text",
    "id": "9gM4ALyfWwA9"
   },
   "source": [
    "Here are a few summaries generated by the model:"
   ]
  },
  {
   "cell_type": "code",
   "execution_count": 42,
   "metadata": {
    "colab": {},
    "colab_type": "code",
    "id": "BUtQmQTmFxkI",
    "outputId": "f407d9fc-e0cd-4082-98f5-bd1f562dc26f"
   },
   "outputs": [
    {
     "name": "stdout",
     "output_type": "stream",
     "text": [
      "Review: loved mold wished could used one occasion last use make suckers daughter first birthday going way mold could salvaged would liked kept use occasions price matter much served main purpose \n",
      "Original summary: could use only once \n",
      "Predicted summary:  great product\n",
      "\n",
      "\n",
      "Review: cat started throwing business trip used amazon prime overnight friend taking care switched food stopped vomiting br br happy food months long time able get anytime anywhere big plus br br also nice round shaped food works well automatic cat feeders \n",
      "Original summary: great food \n",
      "Predicted summary:  my cats love this food\n",
      "\n",
      "\n",
      "Review: glad see product line hard find store makes wonderful chocolate sauce ice cream best ever \n",
      "Original summary: droste cocoa \n",
      "Predicted summary:  great product\n",
      "\n",
      "\n",
      "Review: treats wife cats eats give anything else dogs end eating funny like much learned beg cannot lose treats cat love \n",
      "Original summary: cat love these things \n",
      "Predicted summary:  my dog loves these\n",
      "\n",
      "\n",
      "Review: crystal light flavor robust heavy cherry flavor syrupy sweet either better taste mixed berries cherry products suppose help antioxidant added bonus \n",
      "Original summary: if you like berry taste you will love this \n",
      "Predicted summary:  great coffee\n",
      "\n",
      "\n",
      "Review: best mustard ever tried others company good especially good pork hard find stores buy online delicious hate say could almost eat jar alone \n",
      "Original summary: the best mustard out there \n",
      "Predicted summary:  best tasting soup ever\n",
      "\n",
      "\n",
      "Review: purchased low salt indeed low salt however many many chips bag literally dripping oil never encountered problem potato chip brands unappetizing wants oil never buy would recommend others \n",
      "Original summary: dripping in oil \n",
      "Predicted summary:  great chips\n",
      "\n",
      "\n",
      "Review: maybe ok boston butt general purpose rub find heavy salt admittedly salty salty highly subjective thing others obviously like rub quite lot looking nutrition info label sodium content rub substantially higher commercial rubs seasons tried forewarned salt preference conservative side may product \n",
      "Original summary: too salty for general purpose rub \n",
      "Predicted summary:  not bad\n",
      "\n",
      "\n",
      "Review: kids go alarming pace buying grocery store would break bank amazon makes affordable use auto deliver get even cheaper \n",
      "Original summary: same as grocery store but waaaay cheaper \n",
      "Predicted summary:  great product\n",
      "\n",
      "\n",
      "Review: packets easy use mess little left unpopped great flavor great northern become one source order case great northern popcorn cart grand kids love highly recommend great northern products \n",
      "Original summary: outstanding and convenient \n",
      "Predicted summary:  great stuff\n",
      "\n",
      "\n",
      "Review: lot research cannot get past fact grown china enough research mass pollution ends dirt much us way little girl going eating shame perfect snack also shame since company wants save extra money must saving quite bit still ship back us still save money thanks stick organic american food \n",
      "Original summary: made in china \n",
      "Predicted summary:  my cats love this\n",
      "\n",
      "\n",
      "Review: simply put cookies thus worthy star rating taste good remind times spent england shipment fast get lot money spent \n",
      "Original summary: like it \n",
      "Predicted summary:  great taste\n",
      "\n",
      "\n",
      "Review: sweet ever slightly tart cherry vanilla flavor really like flavor wish tiny bit stronger leave jar kids enjoy especially snacks meals guilt free good teeth great lollipop pretty swirly colors \n",
      "Original summary: tasty cherry vanilla flavor and good for your teeth \n",
      "Predicted summary:  great taste\n",
      "\n",
      "\n",
      "Review: smooth creamy perfect coffee cereals recipes aftertaste like rice drinks plus enriched know still getting calcium \n",
      "Original summary: the best rice drink \n",
      "Predicted summary:  great coffee\n",
      "\n",
      "\n",
      "Review: amazing deal amazing tasting white tea enjoy mint teas love addition tea selection \n",
      "Original summary: yum yum \n",
      "Predicted summary:  great tea\n",
      "\n",
      "\n",
      "Review: refreshing iced tea mint subtle overpowering also nice hot enjoyed one coffee shops live unable find local stores glad find amazon worth try highly recommended \n",
      "Original summary: very nice \n",
      "Predicted summary:  great tea\n",
      "\n",
      "\n",
      "Review: one popular flavors drink mix around house good flavor quick easy make like new packaging much better shopping amazon great cheaper crystal light walmart cheaper gv brand \n",
      "Original summary: good tasting drink \n",
      "Predicted summary:  great tasting\n",
      "\n",
      "\n",
      "Review: great product dissolves easily tastes great used drinks fruit anytime would wisely prefer add unnecessary sugar body even trying lose weight saves money buy larger size canisters \n",
      "Original summary: ease \n",
      "Predicted summary:  great tasting\n",
      "\n",
      "\n",
      "Review: love things originally bought miracle noodles add variety strict diet trying realized reason able stick diet miracle noodles versatile quick easy fits diets love much signed subscribe save feature monthly shipments cannot find locally excellent product recommended friends \n",
      "Original summary: miracle noodles truly miracle \n",
      "Predicted summary:  great for cooking\n",
      "\n",
      "\n",
      "Review: dogs one terrible plaque build gone months using product remarkably better dogs love treats buy bags time run \n",
      "Original summary: excellent product \n",
      "Predicted summary:  dogs love them\n",
      "\n",
      "\n",
      "Review: primarily milk chocolate lover dark chocolate take getting used initial taste leans bitter sweet say good grow love besides dark milky good plus organic makes even better paul newman always good choice brand wise feel product exception \n",
      "Original summary: it is dark chocolate and therefore its fine choice \n",
      "Predicted summary:  best chocolate ever\n",
      "\n",
      "\n",
      "Review: licorice good taste daughter gluten free diet loves cherry bites \n",
      "Original summary: candy tree organic cherry bites \n",
      "Predicted summary:  great product\n",
      "\n",
      "\n",
      "Review: excellent healthy product small dogs please aware must watch pup giving small greenie swallow entire thing one gulp quick service seller excellent price product purchase sure \n",
      "Original summary: greenies dental chews for dogs teenie pack chews \n",
      "Predicted summary:  dogs love them\n",
      "\n",
      "\n",
      "Review: particularly flavorful texture tongue like chalk nutritional information calorie sugar content bad even try give away would want ruin child halloween \n",
      "Original summary: chalk hard and grating texture \n",
      "Predicted summary:  great product\n",
      "\n",
      "\n",
      "Review: healthy organic tastes great oh decent price little kids big kids bon apetit \n",
      "Original summary: great \n",
      "Predicted summary:  great product\n",
      "\n",
      "\n",
      "Review: think lives better job variety friskies say cat friskies look fresh appetizing lives cat like well smells nasty looks quite good lives think could definitely better variety maybe even add cheese cat leaves one dish eats lives version \n",
      "Original summary: not their best \n",
      "Predicted summary:  my cats love it\n",
      "\n",
      "\n",
      "Review: like jerky tender right except one problem salty barely taste meat flavor salt like eating salt meat flavor \n",
      "Original summary: whoa saltie \n",
      "Predicted summary:  good product\n",
      "\n",
      "\n",
      "Review: best cereal like use base add oats nuts cranberries great sweet overpowering spices like much cinnamon plenty fiber great fresh berries wish amazon still carried varieties product hard find without paying huge shipping costs \n",
      "Original summary: dorset cereal \n",
      "Predicted summary:  great snack\n",
      "\n",
      "\n",
      "Review: always liked gloria jean coffee butter toffee exceptionally delicious opportunity try really missing easy breezy way order amazon came early gotta love \n",
      "Original summary: yummy \n",
      "Predicted summary:  great coffee\n",
      "\n",
      "\n",
      "Review: replacement traditional granola bar received summer voxbox influenster last week time warmed devouring oh incredible definitely recommend warming great warm breakfast fall banana nut bread goodness \n",
      "Original summary: warm them up \n",
      "Predicted summary:  delicious\n",
      "\n",
      "\n",
      "Review: food product best get school turn popcorn machine wait get hot cut whole bag popcorn start popping like minute popcorn taste good ingredients put bag right amount done might see pieces burnt popcorn hey least taste great \n",
      "Original summary: best popcorn no mess \n",
      "Predicted summary:  great popcorn\n",
      "\n",
      "\n",
      "Review: taste different everyone good starbucks french roast better tasting black tiger price cannot beat \n",
      "Original summary: great price \n",
      "Predicted summary:  great coffee\n",
      "\n",
      "\n",
      "Review: best ginger marmalade made bought others available amazon greatest number ginger chunks nicest flavor taste mentioned title mix plain yogurt health benefits also tastes sensational english muffin toast real crowd pleaser make gingerbread top dab whipped cream teaspoon ginger preserve mother english family favorite still grand children great grandchildren \n",
      "Original summary: great addition to plain fat free yogurt \n"
     ]
    },
    {
     "name": "stdout",
     "output_type": "stream",
     "text": [
      "Predicted summary:  great tasting sauce\n",
      "\n",
      "\n",
      "Review: love cheerios really wonderful value continue getting cereal regular home breakfasts \n",
      "Original summary: apple cheerios \n",
      "Predicted summary:  great product\n",
      "\n",
      "\n",
      "Review: got kids easter basket something different loved tastes great even travels well great treat take car stick purse time craving ice cream cannot \n",
      "Original summary: tastes great \n",
      "Predicted summary:  great for breakfast\n",
      "\n",
      "\n",
      "Review: meals disgusting made baby food first kid time second kid ordered bunch earth best food wish would ordered one pack start glob terrible consistency barely edible flavor baby eats heat bit accounting baby taste \n",
      "Original summary: gross food \n",
      "Predicted summary:  my cats love this food\n",
      "\n",
      "\n",
      "Review: thankful found pouches four year old ok eater comes fruit veggies sucks like juice pouches asks another love getting great antioxidants fiber omega especially since fish eater eat time go tastes really good cold hot day \n",
      "Original summary: my four year old loves these \n",
      "Predicted summary:  great for kids\n",
      "\n",
      "\n",
      "Review: tried several holistic puppy canned foods one winner pup canned food would give sensitive pup loose stool one never problem highly recommend food \n",
      "Original summary: awesome puppy food \n",
      "Predicted summary:  great product\n",
      "\n",
      "\n",
      "Review: taste like chocolate bar cannot describe tastes encountered something like know suppose better natural honestly slim fast bars tasted better glad pay went garbage \n",
      "Original summary: not chocolate \n",
      "Predicted summary:  delicious\n",
      "\n",
      "\n",
      "Review: bit delicious immediately grew bit tired way much salt kind person likes cashews salty peppery taste bit nice compliment tasted cashews alluded bit lime like flavor found hard keep thinking bout much salt enough burn tongue lips cause stop eating even though tasted good \n",
      "Original summary: good but not that great \n",
      "Predicted summary:  great snack\n",
      "\n",
      "\n",
      "Review: friend california introduced us seasoning since must kitchen adds nice zing variety dishes season steak que spagetti sauce chili etc pretty much anything cook beef pork pappy seasoning dish disappointed \n",
      "Original summary: this is some good stuff \n",
      "Predicted summary:  great stuff\n",
      "\n",
      "\n",
      "Review: like remember kid chocolatey goodness love marshmallow center family favorite unfortunately chocolate melted mess since box sat front porch couple hours taste still great \n",
      "Original summary: yummy \n",
      "Predicted summary:  great product\n",
      "\n",
      "\n",
      "Review: received product good condition br quality excellent although bit salty taste br recommended \n",
      "Original summary: if you like salty \n",
      "Predicted summary:  great product\n",
      "\n",
      "\n",
      "Review: subtle butter pecan flavor mild coffee favorite cup coffee flavor know else type words \n",
      "Original summary: love this flavor \n",
      "Predicted summary:  great coffee\n",
      "\n",
      "\n",
      "Review: chocolate chunk cookie mix one big advantage mixed hand come well made mixer make cookies smaller recommended package baked using recommended baking time come crisp keep well taste good compared complicated chocolate chip recipe make scratch cookies absolutely great \n",
      "Original summary: good and easy chocolate chunk cookies \n",
      "Predicted summary:  delicious\n",
      "\n",
      "\n",
      "Review: sausage stuffer easy use gets really glad reading reviews purchased item make sausage \n",
      "Original summary: excellent tool \n",
      "Predicted summary:  great product\n",
      "\n",
      "\n",
      "Review: crackers absolutely delicious snack ever addictive unfortunately come think order \n",
      "Original summary: the best \n",
      "Predicted summary:  great snack\n",
      "\n",
      "\n",
      "Review: moment cats favorite food moment meaning years old change minds every days rotate two foods love \n",
      "Original summary: my cats favorite \n",
      "Predicted summary:  my cats love this\n",
      "\n",
      "\n",
      "Review: adopted year old dalmatian earlier year heard lots cautionary tales special diet could pass trying dog food sadly name well loves special occasion food mix half cup dry day nasty side effects also likes wingaling napa valley offerings company high protein works us \n",
      "Original summary: we love grammy \n",
      "Predicted summary:  my dogs love this food\n",
      "\n",
      "\n",
      "Review: effect friends try stated feel anything energy shot either br br age range tested years old \n",
      "Original summary: no effect \n",
      "Predicted summary:  not bad\n",
      "\n",
      "\n",
      "Review: love stuff everyone one comes house make hooked \n",
      "Original summary: great for summer time \n",
      "Predicted summary:  great stuff\n",
      "\n",
      "\n",
      "Review: love love love pasta eat tastes like homemade without work even feed italian relatives tell made \n",
      "Original summary: tastes like homemade \n",
      "Predicted summary:  great gluten free pasta\n",
      "\n",
      "\n",
      "Review: son absolutelly loved great flavor could eat jars time would let runny side may want add teaspoon rice cereal make feeding less messy \n",
      "Original summary: my son favorite \n",
      "Predicted summary:  great product\n",
      "\n",
      "\n",
      "Review: like definitely could done without decaf \n",
      "Original summary: nice variety \n",
      "Predicted summary:  great taste\n",
      "\n",
      "\n",
      "Review: taste like bergamot thusly taste like early grey robustness flavor first cup tea tried sure temperature brew causing flavor issue actual taste tea would recommend \n",
      "Original summary: this is earl grey \n",
      "Predicted summary:  great tea\n",
      "\n",
      "\n",
      "Review: best coffee ever price right buy href http www amazon com gp product iokaa san francisco bay coffee one cup rainforest blend count \n",
      "Original summary: san francisco bay coffee \n",
      "Predicted summary:  great coffee\n",
      "\n",
      "\n",
      "Review: got keurig love came cup sample pack yeah tried green mountain dark magic morning terrible took one sip tasted burnt could drink anymore ended adding water giving plants \n",
      "Original summary: hopefully just got bad batch \n",
      "Predicted summary:  great coffee\n",
      "\n",
      "\n",
      "Review: could believe wonderful flavor salt doctor tells trace minerals actually good made sole use every morning great \n",
      "Original summary: himalayan salt \n",
      "Predicted summary:  great product\n",
      "\n",
      "\n",
      "Review: mother law recommended tea help naturally alleviate menstrual cramps warn tea kick couple cycles drink expecting magic cure within first cup used dependent advil tylenol etc tea lifesaver br br mild tea need lot sugar honey recommend \n",
      "Original summary: great herbal tea for cramps \n",
      "Predicted summary:  great tea\n",
      "\n",
      "\n",
      "Review: love spice mix blend sugar salt edamame great side dish great snack highly recommended \n",
      "Original summary: with veggies \n",
      "Predicted summary:  great product\n",
      "\n",
      "\n",
      "Review: chips hot enough make interesting type chip came close habanero dortitos hard find \n",
      "Original summary: nice and hot \n",
      "Predicted summary:  great chips\n",
      "\n",
      "\n",
      "Review: geriatric dog lady loves treat sticks getting older next march trouble gaining extra pounds dental problems treats low fat nicely flavored spice helping healthy choices helping teeth also help keeping tartar quickly consumed eat anything like takes excitedly whenever offered pleased product \n",
      "Original summary: great for the older dog \n",
      "Predicted summary:  my dog loves these\n",
      "\n",
      "\n",
      "Review: kobe beef comes specific prefecture japan illegal import united states fact illegal import since form overpriced regular american beef \n",
      "Original summary: not kobe beef \n",
      "Predicted summary:  not as advertised\n",
      "\n",
      "\n",
      "Review: admit chips good highly addictive cannot stop eating crunchy seasoned right amount flavor salt perfect believe chips salty cannot finish small bag one keep eating \n",
      "Original summary: highly addicitive chips \n",
      "Predicted summary:  great chips\n",
      "\n",
      "\n",
      "Review: tried unsweetened shredded coconut various health food stores etc best much cheaper health food stores \n",
      "Original summary: best yet \n",
      "Predicted summary:  great product\n",
      "\n",
      "\n",
      "Review: finished another bag classic sea salt smart fries must say truly great snack kids love much go get day finally found healthier snack actually tastes great whole family loves highly recommend everyone \n",
      "Original summary: love them \n",
      "Predicted summary:  great snack\n",
      "\n",
      "\n",
      "Review: looking ran cereal takes good works supposed ths also setting auto delivery works great \n",
      "Original summary: smart bran and auto delivery \n",
      "Predicted summary:  great product\n",
      "\n",
      "\n",
      "Review: husband huge fan hot cocoa surprised pack stephen peanut butter cup hot cocoa actually little peanut butter cups quickly melt delicious treat highly recommend product buy \n",
      "Original summary: deserves more than star review \n",
      "Predicted summary:  great chocolate\n",
      "\n",
      "\n",
      "Review: great tasting sure price deal compared grocery stores however quality fruit superior quality found stores \n",
      "Original summary: excellent flavor \n",
      "Predicted summary:  great product\n",
      "\n",
      "\n",
      "Review: purchased lavender make lavender lemonade bridal shower went well cooking lavender made whole house smell like spa tasted fantastic shipped timely mannor came large rectangle ziplock baggie little labie wouldnt hesitate purchase \n",
      "Original summary: fantastic aroma and taste \n"
     ]
    },
    {
     "name": "stdout",
     "output_type": "stream",
     "text": [
      "Predicted summary:  not good\n",
      "\n",
      "\n",
      "Review: papillions love greenies help keep tartar control breed notorious bad tartar build teeth dentals twice year using greenies daily dental year saves us year \n",
      "Original summary: papillions love greenies \n",
      "Predicted summary:  my dogs love these\n",
      "\n",
      "\n",
      "Review: cutest make traveler would given stars smaller expected lot makeup would suggest product like want necessities going small trip perfect color fantastic shiny bright \n",
      "Original summary: good product \n",
      "Predicted summary:  great product\n",
      "\n",
      "\n",
      "Review: bought two kinds davidson bulk teas darjeeling gunpowder green disappointed quality make kind murky harsh tea darjeeling light color aftertaste like pekoe gunpowder green weak flat certainly would recommend \n",
      "Original summary: very low quality \n",
      "Predicted summary:  not as good as expected\n",
      "\n",
      "\n",
      "Review: admit like french vanilla coffee heavy vanilla side much stronger coffee brew meaning sugar creamer needed tone coffee flavor hand reasonable alternative preferred brand sale occasionally stock like comes pack family goes lot cups order quite often \n",
      "Original summary: not as sweet as other french vanilla coffees \n",
      "Predicted summary:  great coffee\n",
      "\n",
      "\n",
      "Review: made crab rangoon used sauce dipping sauce great love fact msg right amount sweetness little spicy right amount \n",
      "Original summary: really good sauce \n",
      "Predicted summary:  great product\n",
      "\n",
      "\n",
      "Review: product saves money since use regular brand like kcups still kcup convenience making one drink time without using nasty instant coffee great product \n",
      "Original summary: kcup convenience but less costly \n",
      "Predicted summary:  great coffee\n",
      "\n",
      "\n",
      "Review: proper marmalade way used type preserves would make access bitter oranges hours time cloyingly sweet like american marmalade bitter right interesting shreds orange bliss spread thick handmade italian bread fresh sweet butter also good glaze pork roast dabbed wholegrain crackers goat cheese superb addition cranberries cranberry orange relish \n",
      "Original summary: bittersweet bliss \n",
      "Predicted summary:  great product\n",
      "\n",
      "\n",
      "Review: two dogs really enjoy chews teeth stay clean older dog teeth cleaned year ago cost vet recommended brushing chews avoid abcessed teeth future also give hextra ones often one chew day bedtime routine high price drawback \n",
      "Original summary: cet dog chews \n",
      "Predicted summary:  dogs love them\n",
      "\n",
      "\n",
      "Review: like bit flavor soft breakfast blends best bunch worked brand bolds come back one every time black tiger similar added flavor notes found \n",
      "Original summary: this is the one \n",
      "Predicted summary:  great stuff\n",
      "\n",
      "\n",
      "Review: take delicious new blend ingredients candy expert recommend highly hope come dark chocolate version \n",
      "Original summary: mm good \n",
      "Predicted summary:  great product\n",
      "\n",
      "\n",
      "Review: admit fully expected dislike product approached dismissive attitude something trendy cannot good right well wrong one coconut water refreshing delicious barely sweet really wonderful stuff hint pineapple adds little bit acidity enhances basic taste water bet would make great summer drink one get tot try problem stock cannot get \n",
      "Original summary: amazing \n",
      "Predicted summary:  great taste\n",
      "\n",
      "\n",
      "Review: favorite kind cookies usually buy dark chocolate one pepperidge many different types recently decided try others mint adds refreshing hint chocolate like nice enjoy tea midafternoon snack something sort \n",
      "Original summary: delicious \n",
      "Predicted summary:  delicious\n",
      "\n",
      "\n",
      "Review: bought product vitacost really enjoyed fresh healthy flavor decided purchse amazon bulk thereore cheaper sso worht tried lot mix really impressed chocolate melt car \n",
      "Original summary: great tasting \n",
      "Predicted summary:  delicious\n",
      "\n",
      "\n",
      "Review: love salt pepper pistachoes used able purchase local grocery store unfortunately longer carry decided purchase pound bag amazon found could fresher seem near fresh would purchase locally href http www amazon com gp product kussca ks everybody nuts california pistachios salt pepper lbs pack \n",
      "Original summary: freshness \n",
      "Predicted summary:  good but not as good as expected\n",
      "\n",
      "\n",
      "Review: really hesitate leave negative review since love chips last shipments destroyed boxes marked received damaged condition shipper never received damaged products amazon made mistake ordering chips thinking fluke evidently buy amazon \n",
      "Original summary: destroyed in shipping twice \n",
      "Predicted summary:  good but not as good as expected\n",
      "\n",
      "\n",
      "Review: wow deal taste good expensive brands definately buying \n",
      "Original summary: hot choc cup \n",
      "Predicted summary:  good stuff\n",
      "\n",
      "\n",
      "Review: candy ordinary milk chocolate glad organic option hand halloween love idea including little nature education little disappointed text insect card saw well written almost nothing moth pictured get candy \n",
      "Original summary: nice organic option \n",
      "Predicted summary:  great product\n",
      "\n",
      "\n",
      "Review: great taste seems rather light green tea use straight green tea bag along bag orange passion green tea get strength looking good product continue buy like stronger green tea ready supplement straight green tea bag \n",
      "Original summary: taste good but light on the green tea \n",
      "Predicted summary:  great tea\n",
      "\n",
      "\n",
      "Review: dog really loves stella chewy freeze dried dog food ate previous food little time day long give patty gone matter minutes sometimes seconds worried eating enough much relieved knowing getting plenty eat day \n",
      "Original summary: my yorkie loves this \n",
      "Predicted summary:  my dog loves these\n",
      "\n",
      "\n",
      "Review: purchased coffee high anticipation heard raved morning radio dj disappointed received tried really taste like chocolate doughnut anything tastes like hardened glaze covers doughnut also somewhat chemically aftertaste \n",
      "Original summary: chemical aftertaste \n",
      "Predicted summary:  good coffee\n",
      "\n",
      "\n",
      "Review: well found better bread works easy make bread machine sure taste texture wheat bread \n",
      "Original summary: bread gluten free \n",
      "Predicted summary:  gluten free pasta\n",
      "\n",
      "\n",
      "Review: granola fairly unsweet abundant semi sweet chocolate chunks provide overall appropriate sweetness chocolate flavor overpowering chocolate cereal try milk quickly disappeared snack left counter \n",
      "Original summary: good for snacking \n",
      "Predicted summary:  delicious\n",
      "\n",
      "\n",
      "Review: love ricemilk consistency almond milk soy \n",
      "Original summary: delicious \n",
      "Predicted summary:  great product\n",
      "\n",
      "\n",
      "Review: best gummi candies around white grapefruit also taste great fruit salad good wish low sugar sugar coating product available though sometimes sugar bit much \n",
      "Original summary: haribo is the best \n",
      "Predicted summary:  great snack\n",
      "\n",
      "\n",
      "Review: reassuring treats give precious yorkie best quality course appreciate cost effectiveness dealing reputable company amazon provided swift service product would cost much local pet shop greenies good dog dental health dangerous rawhides toys squeeking mechanisms choke dog sight greenie box knows nap time time treat \n",
      "Original summary: doggie must \n",
      "Predicted summary:  my dog loves these\n",
      "\n",
      "\n",
      "Review: looking highly rated pastas customers amazon came upon mac cheese family four gluten free trying find foods teenagers prepare like mac cheese lasted week home subscribe save deal daughter keeps asking next shipment arrive realized probably need order item case per month \n",
      "Original summary: ordering more it must be good \n",
      "Predicted summary:  great product\n",
      "\n",
      "\n",
      "Review: gave shot curiosity glad good cup coffee \n",
      "Original summary: interesting blend \n",
      "Predicted summary:  good coffee\n",
      "\n",
      "\n",
      "Review: nuts touch chocolate sweetness really whisper dark chocolate flavor chocolate sweet makes better regular almonds opinion pleasantly surprised nuts would highly recommend refreshing afternoon evening snack \n",
      "Original summary: subtly sweet \n",
      "Predicted summary:  delicious\n",
      "\n",
      "\n",
      "Review: health nut love cooking evoo eat raw rye bread great insides outsides could go good things evoo must state acne prone skin literally tried everything market used evoo little bit lemon juice moisturizer simple soap free cleanser skin improved much knew simple things lifesavers especially wallet \n",
      "Original summary: great for both cooking and as moisturizer \n",
      "Predicted summary:  great product\n",
      "\n",
      "\n",
      "Review: good results taking airborne prevent catching colds flus started taking emergen time past years family member caught something immediately started taking emergen successfully caught anything br br managed always get least one cold flu season since started taking emergen suffered works great since comes many flavors easy find flavor right \n",
      "Original summary: works better than airborne \n",
      "Predicted summary:  not bad\n",
      "\n",
      "\n",
      "Review: dinos great powerful chewers dogs love dogs also worked head legs tail still actively grinding away last quite long time major bonus highly recommend anyone dogs love chew \n",
      "Original summary: very entertaining \n"
     ]
    },
    {
     "name": "stdout",
     "output_type": "stream",
     "text": [
      "Predicted summary:  dogs love them\n",
      "\n",
      "\n",
      "Review: bought based rave reviews posted previously one main ingredients msg gotta way make good bbq rub loaded stuff gives wife nasty headaches \n",
      "Original summary: loaded with msg \n",
      "Predicted summary:  not good\n",
      "\n",
      "\n",
      "Review: came handy breakfast snack well lunch snack little sweet \n",
      "Original summary: nice snack but sweet \n",
      "Predicted summary:  great snack\n",
      "\n",
      "\n",
      "Review: buy month old son loves however extremely messy everything turns red prepared \n",
      "Original summary: good but verrry messy \n",
      "Predicted summary:  great product\n",
      "\n",
      "\n",
      "Review: pleased product great tasting coffee quick breakfast trying banana walnut discovered chocolate chip version ordered definitely chocolate chip favorite \n",
      "Original summary: pleased to learn how tasty they are \n",
      "Predicted summary:  great coffee\n",
      "\n",
      "\n",
      "Review: eating larabar bars years love pecan pie bars days ago received box warehouse kentucky box oil spots opened bar strange odor almost like fermentation ate lunch work bars eat think temperature warehouse hot never problem \n",
      "Original summary: pecan pie larabar \n",
      "Predicted summary:  great product\n",
      "\n",
      "\n",
      "Review: bought thi dad surprise birthday present could find else \n",
      "Original summary: candy \n",
      "Predicted summary:  great product\n",
      "\n",
      "\n",
      "Review: dogs love grain free wheat corn soy artificial preservatives highly recommended great value thirty cents per ounce \n",
      "Original summary: great healthy tasty treats dogs love \n",
      "Predicted summary:  dogs love them\n",
      "\n",
      "\n",
      "Review: works really well gets throw days sleep well working woman mom plus working thing works tryed kinds one works best \n",
      "Original summary: love this stuff \n",
      "Predicted summary:  great product\n",
      "\n",
      "\n",
      "Review: coffee company delivers great coffee taste like coffee deep robust taste jeremiah always makes glad purchase thanks \n",
      "Original summary: jeremiah pick great coffee \n",
      "Predicted summary:  great coffee\n",
      "\n",
      "\n",
      "Review: idea real pickling spice point purchased supermarket brands pale comparison minute see bottle open smell spices inside see mean corned beef never tasted good \n",
      "Original summary: wow \n",
      "Predicted summary:  good product\n",
      "\n",
      "\n",
      "Review: husband big fans lavazza super crema coffee got bag tierra blend recently super crema stock smell color wonderful found tierra arabica blend much bitter regular blend even added cream milk coffee felt unable continue drink gave away brews received regular super crema could happier \n",
      "Original summary: not as good as super crema for straight espresso \n",
      "Predicted summary:  great coffee\n",
      "\n",
      "\n",
      "Review: order delivered within specified time product received good condition packaged well bit pricey worth seeing lucozade available states would definitely recommend addicted stuff \n",
      "Original summary: \n",
      "Predicted summary:  great product\n",
      "\n",
      "\n",
      "Review: bully sticks great keep active puppy occupied tend spendy bought locally quality bully sticks good arrived time price right \n",
      "Original summary: good price arrived quickly \n",
      "Predicted summary:  my dog loves these\n",
      "\n",
      "\n",
      "Review: uncle brought back england years ago hooked ever since got great flavor strong light either \n",
      "Original summary: very good tea \n",
      "Predicted summary:  great product\n",
      "\n",
      "\n",
      "Review: candy sour like previous review said red tin candy sticky opened cost order \n",
      "Original summary: not worth the cost \n",
      "Predicted summary:  good product\n",
      "\n",
      "\n",
      "Review: absolute favorite coffee see sale like always order box particular coffee buy never disappointed complaint seems take bit longer arrive companies ordered \n",
      "Original summary: great buy \n",
      "Predicted summary:  great coffee\n",
      "\n",
      "\n",
      "Review: tried many kinds protein bars far worse tasting would never buy \n",
      "Original summary: yuck \n",
      "Predicted summary:  great snack\n",
      "\n",
      "\n",
      "Review: bought lab boarder collie husky really likes fill cat food kibble show get treat let get frustrated right away far none dogs destroyed rare durable dog toy house good toy dogs need challenge \n",
      "Original summary: good toy \n",
      "Predicted summary:  my dog loves these\n",
      "\n",
      "\n",
      "Review: husband slowly becoming addicted cookies ok right package delectable warmed microwave seconds eaten ice cream top preferably one kind chocolate boost chocolate flavor great alternative sugar free products cause stomach upset us want stay away refined sugar forget low calorie food read labels carefully \n",
      "Original summary: feed your chocolate beast \n",
      "Predicted summary:  great snack\n",
      "\n",
      "\n",
      "Review: use everything seems makes great chili add rice sprinkle chicken turkey flavor adds great flavor without added salt calories kids ask spicy rice time price amazon purchased subscribe better local healthy market one place near carries brand better tasting others tried \n",
      "Original summary: wonderful spice \n",
      "Predicted summary:  great stuff\n",
      "\n",
      "\n",
      "Review: experience ate first food day salt almost unbearable ate eating smothing else salt tolerable would good ice cold beer br br seemed equal amount flavoring eat nut mostly nuts whole pieces plastic container substantial top airtight unit price around seven fifty pound br br enjoyed would go way get \n",
      "Original summary: strong salt and pepper taste \n",
      "Predicted summary:  great product\n",
      "\n",
      "\n",
      "Review: busy mom always looking quick easy ways feed son healthy appetite often times preferences ultimate snack pack variety snack first thought really small packages inside hold thought possible totally worth price \n",
      "Original summary: grateful buyer \n",
      "Predicted summary:  my baby loves this\n",
      "\n",
      "\n",
      "Review: purchased keurig daughter use college loves coffee flavors got thru amazon com good quality good taste shipped quickly hightly recommend \n",
      "Original summary: best college gift \n",
      "Predicted summary:  great coffee\n",
      "\n",
      "\n",
      "Review: product came sooner estimated exactly needed wedding reception \n",
      "Original summary: review \n",
      "Predicted summary:  great product\n",
      "\n",
      "\n",
      "Review: good expected ratings sweet kind tart grams sugar bar made raw healthy ingredients eat maybe try another flavor next time \n",
      "Original summary: not too crazy about the flavor \n",
      "Predicted summary:  great taste\n",
      "\n",
      "\n",
      "Review: arrived super fast works exactly advertised would highly recommend product think help keep electrolytes balance outside working hard day think yummy \n",
      "Original summary: works great \n",
      "Predicted summary:  great product\n",
      "\n",
      "\n",
      "Review: rich european coffee excellent flavor highly recommend try flavor dolce gusto machine \n",
      "Original summary: excellent \n",
      "Predicted summary:  great coffee\n",
      "\n",
      "\n",
      "Review: stuff excellent usually buy jack links taking risk definitely worth especially considering great price highly recommended \n",
      "Original summary: excellent \n",
      "Predicted summary:  great product\n",
      "\n",
      "\n",
      "Review: soda rocks welcome change pepsi colas coke colas world taste sweet great got orange color right nose drink much stuff turn lips teeth orange overall great change pepsi coke cola great taste give soda \n",
      "Original summary: sunkist review \n",
      "Predicted summary:  great taste\n",
      "\n",
      "\n",
      "Review: coffee expert particular br br found coffee best tried br br totally believe recycling creating least amount waste possible br br design amount plastic brands br br fact use feel guilty everytime used one plastic things br br happy coffee guilt free \n",
      "Original summary: great coffee less waste \n",
      "Predicted summary:  good coffee\n",
      "\n",
      "\n",
      "Review: dogs love treats taste good much healthier \n",
      "Original summary: sophie review \n",
      "Predicted summary:  dogs love them\n",
      "\n",
      "\n",
      "Review: like sometimes even love like furnace outside ginger beer ice cold best want gingery beer try ginger people infuse beer real pieces ginger ginger see fever tree offers nice refreshing ginger beer well \n",
      "Original summary: it is good but not the best \n",
      "Predicted summary:  great taste\n",
      "\n",
      "\n",
      "Review: fantastic recently started looking health conscious snacks eat day work came across reading lots reviews amazon reading ingredients zero unrefined sugar decided try delicious bars disappoint moist mildly sweet nutty still healthy tried cranberry almond also tasty amazing plan ripping rest flavors next months go sale \n",
      "Original summary: love these bars \n",
      "Predicted summary:  great snack\n",
      "\n",
      "\n",
      "Review: received shipment folgers clasic roast good product happy shipment br br jk \n",
      "Original summary: folgers decaf \n",
      "Predicted summary:  good coffee\n",
      "\n",
      "\n",
      "Review: started extraction process less month ago far looks smell wonderful waiting try put oz liters vodka beautiful brown fluid stated earlier smells wonderful plan using oz homemade vanilla frozen icecream etc \n",
      "Original summary: these beans were wonderful \n"
     ]
    },
    {
     "name": "stdout",
     "output_type": "stream",
     "text": [
      "Predicted summary:  great product\n",
      "\n",
      "\n",
      "Review: luved original zico taste totally different br introduced pure coconut water pasteurized says concentrate br br taste little different \n",
      "Original summary: product changed \n",
      "Predicted summary:  not bad\n",
      "\n",
      "\n",
      "Review: drink want price afford br br alarmed meticulously packaged came br br pleasantly surprised happy drinking orangina wherever br br maybe maybe may get sexxy cougar man \n",
      "Original summary: sexxy cougar man \n",
      "Predicted summary:  great product\n",
      "\n",
      "\n",
      "Review: discovered hot sauce traveling around belize tables lot restaurants lovely tang grapefruit tongue burning hot pleasing gentle heat never without \n",
      "Original summary: one of my favorites \n",
      "Predicted summary:  best chocolate ever\n",
      "\n",
      "\n",
      "Review: pop chips great heard really good totally agree love able flavors like variety br chips delivered quickly safely \n",
      "Original summary: love those chips \n",
      "Predicted summary:  great chips\n",
      "\n",
      "\n",
      "Review: works great rottie could fit thru pls mk bigger one br br jd \n",
      "Original summary: needs to be bigger \n",
      "Predicted summary:  great product\n",
      "\n",
      "\n",
      "Review: happy bisquick came gluten free version tried many brands pancake waffle mix hands bisquick best made waffles morning husband floored good outside crisp inside soft said great pancakes coffeecake \n",
      "Original summary: we love it \n",
      "Predicted summary:  great gluten free pasta\n",
      "\n",
      "\n",
      "Review: far favorite cup strong flavorful harsh coffee different french roast real burnt edge admit like really strong also drink newman extra bold mild coffee something offer company buy four packs time like rich strong cannot go wrong \n",
      "Original summary: magic in cup \n",
      "Predicted summary:  great coffee\n",
      "\n",
      "\n",
      "Review: got flour making pasta love happy found organic company gives many options staying long time \n",
      "Original summary: love it \n",
      "Predicted summary:  great product\n",
      "\n",
      "\n",
      "Review: bad insomnia panic attacks tea calms helps sleep research suggests valerian works brains similar ways benzodiazepines used past muscle relaxant dts tea obvious effect though takes half hour kick smells like crap mix mint tea noticeable see problem flavor taste like smells \n",
      "Original summary: good things come in stinky packages \n",
      "Predicted summary:  not bad\n",
      "\n",
      "\n",
      "Review: love organic fair trade tea used buy whole foods found amazon delighted buy time like getting third one free \n",
      "Original summary: great way to buy organic tea \n",
      "Predicted summary:  great tea\n",
      "\n",
      "\n",
      "Review: chips delicious great snack grab bags small freinds hooked great alternative regular potato chips tastes good \n",
      "Original summary: delicious \n",
      "Predicted summary:  great chips\n",
      "\n",
      "\n",
      "Review: favorite nut bars cost effective compared alternatives bars right amount sweetness saltiness palate lots almonds peanuts also enjoy sunflower seeds br br purchased pack three times undoubtedly purchasing eat several week either breakfasts evening snacks totally hooked br br great job nature valley thanks amazon \n",
      "Original summary: love these nut bars \n",
      "Predicted summary:  great snack\n",
      "\n",
      "\n",
      "Review: like one trader joes longer carries great fish even better whole grain pasta \n",
      "Original summary: like trader joes \n",
      "Predicted summary:  great product\n",
      "\n",
      "\n",
      "Review: pasta great gluten free film cooking tastes different wheat pasta regret cost buying amazon carrier super walmart one close unless want travel best alternative \n",
      "Original summary: love this pasta but price is expensive on amazon \n",
      "Predicted summary:  great gluten free pasta\n",
      "\n",
      "\n",
      "Review: found newman decaf coffee closest regular coffee found flavor bold enough without bitter go coffee daily br href http www amazon com gp product jai green mountain coffee newman special decaf cup portion pack keurig cup brewers certified organic count \n",
      "Original summary: decaf coffee newmans \n",
      "Predicted summary:  great coffee\n",
      "\n",
      "\n",
      "Review: good strong taste think would last resort coffee tastes like cheap dark chocolate raspberry candy \n",
      "Original summary: meh \n",
      "Predicted summary:  great coffee\n",
      "\n",
      "\n",
      "Review: samsclub sell like much better price great office use want something quick without need microwave wish napkins folk couple piece craker tuna salad delicious try eat like time fat \n",
      "Original summary: great office food \n",
      "Predicted summary:  great product\n",
      "\n",
      "\n",
      "Review: son would rather cookie one cookies taste okay texture hard weird even microwaved short shelf life buying bulk absolutely terrible worse average try pamela chocolate chip cookies wonderful try baking mix \n",
      "Original summary: there are much better gluten and dairy free cookies \n",
      "Predicted summary:  great product\n",
      "\n",
      "\n",
      "Review: slightly upset candy box open candies candy box gift father favorite candy world hope loves candy sending cause travel hour drive buy rocky roads see loves well happy holidays \n",
      "Original summary: rocky road \n",
      "Predicted summary:  great product\n",
      "\n",
      "\n",
      "Review: growing wheat grass like mad enjoying benefits wonderful juice extract sprouts derived auspicious seeds \n",
      "Original summary: wheat grass rules \n",
      "Predicted summary:  great product\n",
      "\n",
      "\n",
      "Review: minute boba fantastic home use cook quickly five minutes perfectly chewy make little much want would definitely order \n",
      "Original summary: exactly what wanted \n",
      "Predicted summary:  great product\n",
      "\n",
      "\n",
      "Review: big fan newman dark chocolates tried percentages dark chocolate another good one like texture chocolate solid still creamy crumbly chocolate mild yet flavorful without bitterness another solid chocolate bar newman \n",
      "Original summary: delicious as usual \n",
      "Predicted summary:  great chocolate\n",
      "\n",
      "\n",
      "Review: great chews daily dental care better price vetrinarian got dog hooked siberian husky loves dental treats better anything else tried \n",
      "Original summary: excellent dog chews \n",
      "Predicted summary:  my dog loves these\n",
      "\n",
      "\n",
      "Review: anchovies outstanding actually ordered approximately time ordered nettuno anchovies italy large jar br br truly gourmet terrific flavor importantly unlike italian anchovies packed sea salt water large jar fall apart br br words reorder acciughe salate whole salted anchovies definitely top list \n",
      "Original summary: outstanding \n",
      "Predicted summary:  great stuff\n",
      "\n",
      "\n",
      "Review: kind plus peanut butter dark chocolate protein gluten free bars really good good doubled monthly order better snickers certainly better diagnosed celiac disease years bars favorite snack \n",
      "Original summary: delicious and filling \n",
      "Predicted summary:  delicious\n",
      "\n",
      "\n",
      "Review: doubts bought anyway must say pretty tasty add splenda quite good used iced tea also wonder would hot toddy winter \n",
      "Original summary: good stuff \n",
      "Predicted summary:  great product\n",
      "\n",
      "\n",
      "Review: high hopes mix ended happy sunflower seeds bitter flavor could offset dried fruit enough fruit counterbalance tasted fresh pretty good afternoon snack wish flavor better \n",
      "Original summary: disappointing \n",
      "Predicted summary:  great product\n",
      "\n",
      "\n",
      "Review: love iced tea idea sell product grocery stores anymore great find \n",
      "Original summary: love this tea \n",
      "Predicted summary:  great tea\n",
      "\n",
      "\n",
      "Review: brand list honey really honey though labeled honey br read decide br tests show store honey honey br ultra filtering removes pollen hides honey origins br \n",
      "Original summary: honey that has been ultra filtered with unknown impurities \n",
      "Predicted summary:  good but not great\n",
      "\n",
      "\n",
      "Review: good product buying one ounce containers amounts half price wonder size jar half full \n",
      "Original summary: good buy \n",
      "Predicted summary:  great product\n",
      "\n",
      "\n",
      "Review: got girlfriend good stuff everybody house eats hight quality chocolate mint \n",
      "Original summary: delicious \n",
      "Predicted summary:  great\n",
      "\n",
      "\n",
      "Review: simple use intuitive set makes great coffee tea provided use preferred brands fits kitchen counter take extra space reservoir holds decent amount water one cup provide cups guests without filling reservoir great item \n",
      "Original summary: super coffee maker \n",
      "Predicted summary:  great product\n",
      "\n",
      "\n",
      "Review: reluctant purchase xanthan gum thinking expensive frankly foreign ingredient never used absolute delight found xanthan gum indispensible ingredient gluten free baking easy use last long time pantry celiac patient tell wonderful bake gluten free birthday cake scratch confidence everyone want eat \n",
      "Original summary: performs perfectly \n",
      "Predicted summary:  not bad\n",
      "\n",
      "\n",
      "Review: friend saw bars checkout thought sounded disgusting knew try chocolate spicy foods favorite usually add bit chocolate chili br br adore overtly taste chili first taste delicious lindt dark chocolate spicy zing hits mouth throat wonderful finish left endorphins rushing chocolate spice could ask \n",
      "Original summary: chili choco riffic \n"
     ]
    },
    {
     "name": "stdout",
     "output_type": "stream",
     "text": [
      "Predicted summary:  great tasting\n",
      "\n",
      "\n",
      "Review: got gift tastes like sold junior highers make money chocolate much cheap waxy choco flavored covering ball sugar lard buy disgusting product tricked \n",
      "Original summary: chocolate you can buy and it tastes like it \n",
      "Predicted summary:  not as advertised\n",
      "\n",
      "\n",
      "Review: dog well food recent price increase means shopping elsewhere product mention almost always least one bag order come unsealed shipment due poor packaging enough reasons shop elsewhere \n",
      "Original summary: great food but no longer good value on amazon \n",
      "Predicted summary:  my dog loves these\n",
      "\n",
      "\n",
      "Review: poor quality price flavor crabmeat way processed surprised easily crabmeat lumps practically disintegrated flakes preparing crabcakes learned lesson pay bit grocery store quality jumbo lump crab meat \n",
      "Original summary: really bad crabmeat for the price \n",
      "Predicted summary:  not as advertised\n",
      "\n",
      "\n",
      "Review: simply like taste ginger bitter even adding sugar tried making tea weaker several times simply \n",
      "Original summary: too strong \n",
      "Predicted summary:  great tea\n",
      "\n",
      "\n",
      "Review: one families favorite macaroni found diffcult find oklahoma still follow family tradition serving gravy macaroni sunday even great leftover lunch pasta salad \n",
      "Original summary: anna long fusilli \n",
      "Predicted summary:  great stuff\n",
      "\n",
      "\n",
      "Review: surprised peak powder came found many uses great used coffee cream lot like pream ordering amazon daughter grand kids take home everytime visit \n",
      "Original summary: this stuff is great \n",
      "Predicted summary:  great coffee\n",
      "\n",
      "\n",
      "Review: product delicious satisfying good made great breakfast especially go taste texture awesome \n",
      "Original summary: mm delicious \n",
      "Predicted summary:  great snack\n",
      "\n",
      "\n",
      "Review: ezekiel cereal crunchy tasty fills keeps satisfied unlike light weight cereals store shelves great try soy milk favorite fruit even healthier breakfast \n",
      "Original summary: best cereal ever \n",
      "Predicted summary:  great snack\n",
      "\n",
      "\n",
      "Review: flavor good guests served thought also \n",
      "Original summary: good flavored coffee \n",
      "Predicted summary:  great product\n",
      "\n",
      "\n",
      "Review: use pumpkin help dogs digestion fiber pumpkin recommneded vet worked like charm past year problem finidnig canned pumpkin outside holiday baking season pricey terms shipping costs give tablespoon food day last long time \n",
      "Original summary: yum pumpkin \n",
      "Predicted summary:  dogs love it\n",
      "\n",
      "\n",
      "Review: great item easy use everything need make great popcorn worries whether much oil little popcorn etc includes buttered flavoring powdered form also use flavoring prefer use want change highly recommend product ready purchase next pack \n",
      "Original summary: love this popcorn \n",
      "Predicted summary:  great popcorn\n",
      "\n",
      "\n",
      "Review: may good sea sickness motion sickness morning sickness used br br find good sore throats congestion almost good ginger tea bad tasting either \n",
      "Original summary: good for sore throats and congestion too \n",
      "Predicted summary:  great product\n",
      "\n",
      "\n",
      "Review: single super energy drink good servings serving calories means drink twice many calories active ingredients listed caffeine taurine carnotone arginine plenty corn syrup drink bubbly drink ginseng grape flavor beverage reddish color drink definitely keep sure calorie count worth \n",
      "Original summary: drink with zing \n",
      "Predicted summary:  not good\n",
      "\n",
      "\n",
      "Review: middle east wonderful taste home always product spot flavor department need add anything heat eat \n",
      "Original summary: god bless you margaret holmes \n",
      "Predicted summary:  great product\n",
      "\n",
      "\n",
      "Review: husband love bars tried first one starbucks hooked every since nice good sweet crunchy snack need one \n",
      "Original summary: love these bars \n",
      "Predicted summary:  delicious\n",
      "\n",
      "\n",
      "Review: soup tastes great easy make enough meal really like bean noodles \n",
      "Original summary: delicious \n",
      "Predicted summary:  great stuff\n",
      "\n",
      "\n",
      "Review: got product amazon days placing order pleasantly surprised contents crisp roasted almonds cocoa flavor sounds almost irresistible day almost finished carton day kept going back studied br healthful tasty treat anyone wants eat right \n",
      "Original summary: crisp cocoa flavored is winner any day \n",
      "Predicted summary:  great product\n",
      "\n",
      "\n",
      "Review: prefer german chocolate excellent sweet way like american candy way sweet right organic label appeal simply thought quality candy bar \n",
      "Original summary: perfect \n",
      "Predicted summary:  great product\n",
      "\n",
      "\n",
      "Review: bought cat researching cat foods finding highly recommended even flaxseed value flaxseed known years humans im glad see newmans putting line pet foods thanks newmans \n",
      "Original summary: newmans cat dry cat food \n",
      "Predicted summary:  my cats love this food\n",
      "\n",
      "\n",
      "Review: rating star due price pricey loved coffee average price cups typically cents per cup paying per cup outrageous amazon many packs cups price pay closer attention future cup purchases purchase product price \n",
      "Original summary: price close to double retail \n",
      "Predicted summary:  great coffee\n",
      "\n",
      "\n",
      "Review: fell love almond butter convenient packing right size pad less piece regular place buy \n",
      "Original summary: product \n",
      "Predicted summary:  great product\n",
      "\n",
      "\n",
      "Review: dont big fuss lot bad reviews read description shoulld comes revealed plastic like regualr kcups anyhow ordered fogchaser great amade iced coffee mine flavor perfect keep tupperware keep fresh plan buying flavors encourage come even flavors price awsome beats paying bucks kucps paid kcups def keep buying \n",
      "Original summary: love it \n",
      "Predicted summary:  not bad\n",
      "\n",
      "\n",
      "Review: order vast quantity sugar twice year use everything actually start using raw sugar white sugar falls short taste department \n",
      "Original summary: only sugar we use \n",
      "Predicted summary:  great product\n",
      "\n",
      "\n",
      "Review: title item led believe goose foie gras arrived discovered duck overpriced discovered cannot returned boo hiss bait switch \n",
      "Original summary: fraud \n",
      "Predicted summary:  not as advertised\n",
      "\n",
      "\n",
      "Review: tried different gluten free bread mixes bread maker tried every brand ready mades store shelves freezer cases pamela gluten free bread mix far better taste texture others simple even nicer plus smell fresh home made bread baking eating warm oven yum really amazingly good \n",
      "Original summary: it really is amazing \n",
      "Predicted summary:  great gluten free pasta\n",
      "\n",
      "\n",
      "Review: used mrs grass soup mix several years preferring dry mix soup bases contain rice others seem include slow cook soup adding stew meat fresh vegetables enhance flavor nutrional value easy customize ingredients suite personal preferences left overs easily refridgerated used simply reheating \n",
      "Original summary: easy preparation \n",
      "Predicted summary:  great product\n",
      "\n",
      "\n",
      "Review: remember mom making icebox cake early wife used recipe carry whips whip cream never ever disappointed know person tasting made favorite dessert twelve people house thanksgiving suspicious ravings dessert could stop eating next day got several phone calls asking us pieces left unfortunately disappointed due ravenous actions night legend goes \n",
      "Original summary: the proven best over the ages \n",
      "Predicted summary:  great product\n",
      "\n",
      "\n",
      "Review: got first round gift elated find amazon wonderful \n",
      "Original summary: amazing \n",
      "Predicted summary:  great product\n",
      "\n",
      "\n",
      "Review: already knew loved altoid mints previous purchases want comment excellent service site thanks much \n",
      "Original summary: great service \n",
      "Predicted summary:  great product\n",
      "\n",
      "\n",
      "Review: rich flavorful coffee like pods without plastic case requires storage sealed container good everyday smooth coffee story side box compelling \n",
      "Original summary: really good coffee \n",
      "Predicted summary:  great coffee\n",
      "\n",
      "\n"
     ]
    }
   ],
   "source": [
    "for i in range(1000,1200):\n",
    "    print(\"Review:\",seq2text(x_tr[i]))\n",
    "    print(\"Original summary:\",seq2summary(y_tr[i]))\n",
    "    print(\"Predicted summary:\",decode_sequence(x_tr[i].reshape(1,max_text_len)))\n",
    "    print(\"\\n\")"
   ]
  },
  {
   "cell_type": "code",
   "execution_count": null,
   "metadata": {},
   "outputs": [],
   "source": []
  },
  {
   "cell_type": "code",
   "execution_count": null,
   "metadata": {},
   "outputs": [],
   "source": []
  },
  {
   "cell_type": "code",
   "execution_count": null,
   "metadata": {},
   "outputs": [],
   "source": []
  }
 ],
 "metadata": {
  "colab": {
   "collapsed_sections": [],
   "name": "How to build own text summarizer using deep learning.ipynb",
   "provenance": [],
   "version": "0.3.2"
  },
  "kernelspec": {
   "display_name": "Python 3",
   "language": "python",
   "name": "python3"
  },
  "language_info": {
   "codemirror_mode": {
    "name": "ipython",
    "version": 3
   },
   "file_extension": ".py",
   "mimetype": "text/x-python",
   "name": "python",
   "nbconvert_exporter": "python",
   "pygments_lexer": "ipython3",
   "version": "3.7.7"
  }
 },
 "nbformat": 4,
 "nbformat_minor": 1
}
